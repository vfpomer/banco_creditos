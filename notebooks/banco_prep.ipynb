{
 "cells": [
  {
   "cell_type": "code",
   "execution_count": 43,
   "id": "9cb3acc9",
   "metadata": {},
   "outputs": [
    {
     "data": {
      "text/plain": [
       "'dotenv_path = \\'../generadores/.env\\'  #\\n\\n# Cargar el archivo .env desde la ruta especificada\\nload_dotenv(dotenv_path=dotenv_path)\\n\\n# Leer variables de entorno\\nusername = os.getenv(\"USUARIO_DB\")\\npassword = os.getenv(\"CLAVE_BD\")\\n\\n# Validar que se cargaron bien\\n#print(\"Usuario:\", username)\\n#print(\"Contraseña cargada:\", bool(password))  # No imprime la clave, pero verifica si existe\\n\\nif not username or not password:\\n    raise ValueError(\"Las variables de entorno USUARIO_DB o CLAVE_BD no están definidas\")\\n\\n# Cadena de conexión\\nconn_str = (\\n    \\'DRIVER={ODBC Driver 17 for SQL Server};\\'\\n    \\'SERVER=upgradeserver-vf.database.windows.net;\\'\\n    \\'DATABASE=Banco;\\'\\n    f\\'UID={username};\\'\\n    f\\'PWD={password}\\'\\n)\\n\\n# Conexión\\nconn = pyodbc.connect(conn_str)'"
      ]
     },
     "execution_count": 43,
     "metadata": {},
     "output_type": "execute_result"
    }
   ],
   "source": [
    "import os\n",
    "import pyodbc\n",
    "import pandas as pd\n",
    "import matplotlib.pyplot as plt\n",
    "import seaborn as sns\n",
    "from dotenv import load_dotenv\n",
    "import warnings\n",
    "warnings.filterwarnings('ignore')\n",
    "\n",
    "\n",
    "# Cargar archivo .env\n",
    "# Ruta relativa desde el notebook hasta el .env\n",
    "'''dotenv_path = '../generadores/.env'  #\n",
    "\n",
    "# Cargar el archivo .env desde la ruta especificada\n",
    "load_dotenv(dotenv_path=dotenv_path)\n",
    "\n",
    "# Leer variables de entorno\n",
    "username = os.getenv(\"USUARIO_DB\")\n",
    "password = os.getenv(\"CLAVE_BD\")\n",
    "\n",
    "# Validar que se cargaron bien\n",
    "#print(\"Usuario:\", username)\n",
    "#print(\"Contraseña cargada:\", bool(password))  # No imprime la clave, pero verifica si existe\n",
    "\n",
    "if not username or not password:\n",
    "    raise ValueError(\"Las variables de entorno USUARIO_DB o CLAVE_BD no están definidas\")\n",
    "\n",
    "# Cadena de conexión\n",
    "conn_str = (\n",
    "    'DRIVER={ODBC Driver 17 for SQL Server};'\n",
    "    'SERVER=upgradeserver-vf.database.windows.net;'\n",
    "    'DATABASE=Banco;'\n",
    "    f'UID={username};'\n",
    "    f'PWD={password}'\n",
    ")\n",
    "\n",
    "# Conexión\n",
    "conn = pyodbc.connect(conn_str)'''\n",
    "\n"
   ]
  },
  {
   "cell_type": "code",
   "execution_count": 44,
   "id": "d1869998",
   "metadata": {},
   "outputs": [
    {
     "data": {
      "text/plain": [
       "'query_usuarios = \"SELECT * FROM usuarios\" \\ndf_usuarios = pd.read_sql(query_usuarios, conn)\\ndf_usuarios.head()'"
      ]
     },
     "execution_count": 44,
     "metadata": {},
     "output_type": "execute_result"
    }
   ],
   "source": [
    "'''query_usuarios = \"SELECT * FROM usuarios\" \n",
    "df_usuarios = pd.read_sql(query_usuarios, conn)\n",
    "df_usuarios.head()'''"
   ]
  },
  {
   "cell_type": "code",
   "execution_count": 45,
   "id": "7a66f912",
   "metadata": {},
   "outputs": [],
   "source": [
    "df_usuarios = pd.read_csv('../data/usuarios.csv')\n"
   ]
  },
  {
   "cell_type": "code",
   "execution_count": 46,
   "id": "59daaced",
   "metadata": {},
   "outputs": [
    {
     "data": {
      "text/plain": [
       "np.int64(0)"
      ]
     },
     "execution_count": 46,
     "metadata": {},
     "output_type": "execute_result"
    }
   ],
   "source": [
    "df_usuarios.duplicated().sum() #comprueba si hay duplicados"
   ]
  },
  {
   "cell_type": "code",
   "execution_count": 47,
   "id": "03542c21",
   "metadata": {},
   "outputs": [
    {
     "data": {
      "text/plain": [
       "id                    0\n",
       "nombre                0\n",
       "apellido              0\n",
       "estado_civil          0\n",
       "dni                   0\n",
       "nacionalidad          0\n",
       "fecha_nacimiento      0\n",
       "direccion             0\n",
       "codigo_postal         0\n",
       "provincia             0\n",
       "telefono              0\n",
       "email                 0\n",
       "es_moroso             0\n",
       "profesion             0\n",
       "salario               0\n",
       "numero_cuenta         0\n",
       "tipo_cuenta           0\n",
       "saldo                 0\n",
       "antiguedad_cliente    0\n",
       "genero                0\n",
       "dtype: int64"
      ]
     },
     "execution_count": 47,
     "metadata": {},
     "output_type": "execute_result"
    }
   ],
   "source": [
    "df_usuarios.isnull().sum() #comprueba si hay valores nulos"
   ]
  },
  {
   "cell_type": "code",
   "execution_count": 48,
   "id": "2a011dc0",
   "metadata": {},
   "outputs": [
    {
     "data": {
      "text/plain": [
       "id                     int64\n",
       "nombre                object\n",
       "apellido              object\n",
       "estado_civil          object\n",
       "dni                   object\n",
       "nacionalidad          object\n",
       "fecha_nacimiento      object\n",
       "direccion             object\n",
       "codigo_postal          int64\n",
       "provincia             object\n",
       "telefono               int64\n",
       "email                 object\n",
       "es_moroso               bool\n",
       "profesion             object\n",
       "salario               object\n",
       "numero_cuenta         object\n",
       "tipo_cuenta           object\n",
       "saldo                 object\n",
       "antiguedad_cliente    object\n",
       "genero                object\n",
       "dtype: object"
      ]
     },
     "execution_count": 48,
     "metadata": {},
     "output_type": "execute_result"
    }
   ],
   "source": [
    "df_usuarios.dtypes"
   ]
  },
  {
   "cell_type": "code",
   "execution_count": 49,
   "id": "a032721d",
   "metadata": {},
   "outputs": [
    {
     "data": {
      "text/plain": [
       "'query_activos = \"SELECT * FROM activos_financieros\" \\ndf_activos = pd.read_sql(query_activos, conn)\\ndf_activos.head()'"
      ]
     },
     "execution_count": 49,
     "metadata": {},
     "output_type": "execute_result"
    }
   ],
   "source": [
    "'''query_activos = \"SELECT * FROM activos_financieros\" \n",
    "df_activos = pd.read_sql(query_activos, conn)\n",
    "df_activos.head()'''"
   ]
  },
  {
   "cell_type": "code",
   "execution_count": 50,
   "id": "29947087",
   "metadata": {},
   "outputs": [],
   "source": [
    "df_activos = pd.read_csv('../data/activo.csv')"
   ]
  },
  {
   "cell_type": "code",
   "execution_count": 51,
   "id": "1582677c",
   "metadata": {},
   "outputs": [
    {
     "data": {
      "text/plain": [
       "np.int64(0)"
      ]
     },
     "execution_count": 51,
     "metadata": {},
     "output_type": "execute_result"
    }
   ],
   "source": [
    "df_activos.duplicated().sum() #comprueba si hay duplicados"
   ]
  },
  {
   "cell_type": "code",
   "execution_count": 52,
   "id": "37f96295",
   "metadata": {},
   "outputs": [
    {
     "data": {
      "text/plain": [
       "id             0\n",
       "usuario_id     0\n",
       "tipo_activo    0\n",
       "descripcion    0\n",
       "monto          0\n",
       "dtype: int64"
      ]
     },
     "execution_count": 52,
     "metadata": {},
     "output_type": "execute_result"
    }
   ],
   "source": [
    "df_activos.isnull().sum() #comprueba si hay valores nulos"
   ]
  },
  {
   "cell_type": "code",
   "execution_count": 53,
   "id": "2dffdfe5",
   "metadata": {},
   "outputs": [
    {
     "data": {
      "text/plain": [
       "id               int64\n",
       "usuario_id       int64\n",
       "tipo_activo     object\n",
       "descripcion     object\n",
       "monto          float64\n",
       "dtype: object"
      ]
     },
     "execution_count": 53,
     "metadata": {},
     "output_type": "execute_result"
    }
   ],
   "source": [
    "df_activos.dtypes"
   ]
  },
  {
   "cell_type": "code",
   "execution_count": 54,
   "id": "79976566",
   "metadata": {},
   "outputs": [
    {
     "data": {
      "text/plain": [
       "'query_creditos = \"SELECT * FROM creditos\" \\ndf_creditos = pd.read_sql(query_creditos, conn)\\ndf_creditos.head()'"
      ]
     },
     "execution_count": 54,
     "metadata": {},
     "output_type": "execute_result"
    }
   ],
   "source": [
    "'''query_creditos = \"SELECT * FROM creditos\" \n",
    "df_creditos = pd.read_sql(query_creditos, conn)\n",
    "df_creditos.head()'''"
   ]
  },
  {
   "cell_type": "code",
   "execution_count": 55,
   "id": "d9382541",
   "metadata": {},
   "outputs": [],
   "source": [
    "df_creditos = pd.read_csv('../data/creditos.csv')"
   ]
  },
  {
   "cell_type": "code",
   "execution_count": 56,
   "id": "b19ac756",
   "metadata": {},
   "outputs": [
    {
     "data": {
      "text/plain": [
       "np.int64(0)"
      ]
     },
     "execution_count": 56,
     "metadata": {},
     "output_type": "execute_result"
    }
   ],
   "source": [
    "df_creditos.duplicated().sum() #comprueba si hay duplicados"
   ]
  },
  {
   "cell_type": "code",
   "execution_count": 57,
   "id": "cbe37efd",
   "metadata": {},
   "outputs": [
    {
     "data": {
      "text/plain": [
       "id              0\n",
       "usuario_id      0\n",
       "monto           0\n",
       "fecha_inicio    0\n",
       "fecha_fin       0\n",
       "estado          0\n",
       "tipo            0\n",
       "dtype: int64"
      ]
     },
     "execution_count": 57,
     "metadata": {},
     "output_type": "execute_result"
    }
   ],
   "source": [
    "df_creditos.isnull().sum() #comprueba si hay valores nulos"
   ]
  },
  {
   "cell_type": "code",
   "execution_count": 58,
   "id": "daf29c6a",
   "metadata": {},
   "outputs": [
    {
     "data": {
      "text/plain": [
       "id                int64\n",
       "usuario_id        int64\n",
       "monto           float64\n",
       "fecha_inicio     object\n",
       "fecha_fin        object\n",
       "estado           object\n",
       "tipo             object\n",
       "dtype: object"
      ]
     },
     "execution_count": 58,
     "metadata": {},
     "output_type": "execute_result"
    }
   ],
   "source": [
    "df_creditos.dtypes"
   ]
  },
  {
   "cell_type": "code",
   "execution_count": 59,
   "id": "727e2c41",
   "metadata": {},
   "outputs": [],
   "source": [
    "#cambiamos fecha_inicio y fecha_fin a datetime\n",
    "df_creditos['fecha_inicio'] = pd.to_datetime(df_creditos['fecha_inicio'])\n",
    "df_creditos['fecha_fin'] = pd.to_datetime(df_creditos['fecha_fin'])"
   ]
  },
  {
   "cell_type": "code",
   "execution_count": 60,
   "id": "32658df6",
   "metadata": {},
   "outputs": [
    {
     "data": {
      "text/plain": [
       "'query_cuentas = \"SELECT * FROM cuentas_bancarias\" \\ndf_cuentas = pd.read_sql(query_cuentas, conn)\\ndf_cuentas.head()'"
      ]
     },
     "execution_count": 60,
     "metadata": {},
     "output_type": "execute_result"
    }
   ],
   "source": [
    "'''query_cuentas = \"SELECT * FROM cuentas_bancarias\" \n",
    "df_cuentas = pd.read_sql(query_cuentas, conn)\n",
    "df_cuentas.head()'''"
   ]
  },
  {
   "cell_type": "code",
   "execution_count": 61,
   "id": "727de347",
   "metadata": {},
   "outputs": [],
   "source": [
    "df_cuentas = pd.read_csv('../data/cuenta.csv')"
   ]
  },
  {
   "cell_type": "code",
   "execution_count": 62,
   "id": "94083b6e",
   "metadata": {},
   "outputs": [
    {
     "data": {
      "text/plain": [
       "id               0\n",
       "usuario_id       0\n",
       "numero_cuenta    0\n",
       "tipo_cuenta      0\n",
       "saldo            0\n",
       "dtype: int64"
      ]
     },
     "execution_count": 62,
     "metadata": {},
     "output_type": "execute_result"
    }
   ],
   "source": [
    "df_cuentas.isnull().sum() #comprueba si hay valores nulos"
   ]
  },
  {
   "cell_type": "code",
   "execution_count": 63,
   "id": "62141b60",
   "metadata": {},
   "outputs": [
    {
     "data": {
      "text/plain": [
       "np.int64(0)"
      ]
     },
     "execution_count": 63,
     "metadata": {},
     "output_type": "execute_result"
    }
   ],
   "source": [
    "df_cuentas.duplicated().sum() #comprueba si hay duplicados"
   ]
  },
  {
   "cell_type": "code",
   "execution_count": 64,
   "id": "42e50b44",
   "metadata": {},
   "outputs": [
    {
     "data": {
      "text/plain": [
       "id                int64\n",
       "usuario_id        int64\n",
       "numero_cuenta    object\n",
       "tipo_cuenta      object\n",
       "saldo            object\n",
       "dtype: object"
      ]
     },
     "execution_count": 64,
     "metadata": {},
     "output_type": "execute_result"
    }
   ],
   "source": [
    "df_cuentas.dtypes"
   ]
  },
  {
   "cell_type": "code",
   "execution_count": 65,
   "id": "b33279c5",
   "metadata": {},
   "outputs": [],
   "source": [
    "'''query_monedas = \"SELECT * FROM monedas_digitales\" \n",
    "df_monedas = pd.read_sql(query_monedas, conn)\n",
    "df_monedas.head()''' \n",
    "df_monedas = pd.read_csv('../data/moneda.csv')"
   ]
  },
  {
   "cell_type": "code",
   "execution_count": 66,
   "id": "504b5291",
   "metadata": {},
   "outputs": [
    {
     "data": {
      "text/plain": [
       "np.int64(0)"
      ]
     },
     "execution_count": 66,
     "metadata": {},
     "output_type": "execute_result"
    }
   ],
   "source": [
    "df_monedas.duplicated().sum() #comprueba si hay duplicados"
   ]
  },
  {
   "cell_type": "code",
   "execution_count": 67,
   "id": "c8a48a3b",
   "metadata": {},
   "outputs": [
    {
     "data": {
      "text/plain": [
       "id              0\n",
       "usuario_id      0\n",
       "tipo_moneda     0\n",
       "cantidad        0\n",
       "valor_actual    0\n",
       "dtype: int64"
      ]
     },
     "execution_count": 67,
     "metadata": {},
     "output_type": "execute_result"
    }
   ],
   "source": [
    "df_monedas.isnull().sum() #comprueba si hay valores nulos"
   ]
  },
  {
   "cell_type": "code",
   "execution_count": 68,
   "id": "b34cf68e",
   "metadata": {},
   "outputs": [
    {
     "data": {
      "text/plain": [
       "id               int64\n",
       "usuario_id       int64\n",
       "tipo_moneda     object\n",
       "cantidad        object\n",
       "valor_actual    object\n",
       "dtype: object"
      ]
     },
     "execution_count": 68,
     "metadata": {},
     "output_type": "execute_result"
    }
   ],
   "source": [
    "df_monedas.dtypes"
   ]
  }
 ],
 "metadata": {
  "kernelspec": {
   "display_name": ".venv",
   "language": "python",
   "name": "python3"
  },
  "language_info": {
   "codemirror_mode": {
    "name": "ipython",
    "version": 3
   },
   "file_extension": ".py",
   "mimetype": "text/x-python",
   "name": "python",
   "nbconvert_exporter": "python",
   "pygments_lexer": "ipython3",
   "version": "3.13.1"
  }
 },
 "nbformat": 4,
 "nbformat_minor": 5
}
