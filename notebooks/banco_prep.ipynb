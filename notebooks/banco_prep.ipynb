{
 "cells": [
  {
   "cell_type": "code",
   "execution_count": 27,
   "id": "9cb3acc9",
   "metadata": {},
   "outputs": [
    {
     "name": "stdout",
     "output_type": "stream",
     "text": [
      "Usuario: vanesa\n",
      "Contraseña cargada: True\n"
     ]
    }
   ],
   "source": [
    "import os\n",
    "import pyodbc\n",
    "import pandas as pd\n",
    "import matplotlib.pyplot as plt\n",
    "import seaborn as sns\n",
    "from dotenv import load_dotenv\n",
    "import warnings\n",
    "warnings.filterwarnings('ignore')\n",
    "\n",
    "\n",
    "# Cargar archivo .env\n",
    "# Ruta relativa desde el notebook hasta el .env\n",
    "dotenv_path = '../generadores/.env'  #\n",
    "\n",
    "# Cargar el archivo .env desde la ruta especificada\n",
    "load_dotenv(dotenv_path=dotenv_path)\n",
    "\n",
    "# Leer variables de entorno\n",
    "username = os.getenv(\"USUARIO_DB\")\n",
    "password = os.getenv(\"CLAVE_BD\")\n",
    "\n",
    "# Validar que se cargaron bien\n",
    "print(\"Usuario:\", username)\n",
    "print(\"Contraseña cargada:\", bool(password))  # No imprime la clave, pero verifica si existe\n",
    "\n",
    "if not username or not password:\n",
    "    raise ValueError(\"Las variables de entorno USUARIO_DB o CLAVE_BD no están definidas\")\n",
    "\n",
    "# Cadena de conexión\n",
    "conn_str = (\n",
    "    'DRIVER={ODBC Driver 17 for SQL Server};'\n",
    "    'SERVER=upgradeserver-vf.database.windows.net;'\n",
    "    'DATABASE=Banco;'\n",
    "    f'UID={username};'\n",
    "    f'PWD={password}'\n",
    ")\n",
    "\n",
    "# Conexión\n",
    "conn = pyodbc.connect(conn_str)\n",
    "\n"
   ]
  },
  {
   "cell_type": "code",
   "execution_count": 28,
   "id": "d1869998",
   "metadata": {},
   "outputs": [
    {
     "data": {
      "text/html": [
       "<div>\n",
       "<style scoped>\n",
       "    .dataframe tbody tr th:only-of-type {\n",
       "        vertical-align: middle;\n",
       "    }\n",
       "\n",
       "    .dataframe tbody tr th {\n",
       "        vertical-align: top;\n",
       "    }\n",
       "\n",
       "    .dataframe thead th {\n",
       "        text-align: right;\n",
       "    }\n",
       "</style>\n",
       "<table border=\"1\" class=\"dataframe\">\n",
       "  <thead>\n",
       "    <tr style=\"text-align: right;\">\n",
       "      <th></th>\n",
       "      <th>id</th>\n",
       "      <th>nombre</th>\n",
       "      <th>apellido</th>\n",
       "      <th>estado_civil</th>\n",
       "      <th>dni</th>\n",
       "      <th>nacionalidad</th>\n",
       "      <th>fecha_nacimiento</th>\n",
       "      <th>direccion</th>\n",
       "      <th>codigo_postal</th>\n",
       "      <th>provincia</th>\n",
       "      <th>telefono</th>\n",
       "      <th>email</th>\n",
       "      <th>es_moroso</th>\n",
       "      <th>profesion</th>\n",
       "      <th>salario</th>\n",
       "      <th>numero_cuenta</th>\n",
       "      <th>tipo_cuenta</th>\n",
       "      <th>saldo</th>\n",
       "      <th>antiguedad_cliente</th>\n",
       "      <th>genero</th>\n",
       "    </tr>\n",
       "  </thead>\n",
       "  <tbody>\n",
       "    <tr>\n",
       "      <th>0</th>\n",
       "      <td>1</td>\n",
       "      <td>Isaac</td>\n",
       "      <td>Bas</td>\n",
       "      <td>Soltero</td>\n",
       "      <td>50803891L</td>\n",
       "      <td>Andorrana</td>\n",
       "      <td>1976-08-03</td>\n",
       "      <td>Acceso de Lupe Alegre 4, Albacete, 49375</td>\n",
       "      <td>04461</td>\n",
       "      <td>Zaragoza</td>\n",
       "      <td>612998046</td>\n",
       "      <td>pepita46@example.net</td>\n",
       "      <td>False</td>\n",
       "      <td>Preparador y elaborador de tabaco y sus productos</td>\n",
       "      <td>2982.68</td>\n",
       "      <td>ES3179968971026971199366</td>\n",
       "      <td>corriente</td>\n",
       "      <td>71063.73</td>\n",
       "      <td>2021-10-30</td>\n",
       "      <td>Masculino</td>\n",
       "    </tr>\n",
       "    <tr>\n",
       "      <th>1</th>\n",
       "      <td>2</td>\n",
       "      <td>Sandalio</td>\n",
       "      <td>Fuentes</td>\n",
       "      <td>Divorciado</td>\n",
       "      <td>86252814P</td>\n",
       "      <td>Noruega</td>\n",
       "      <td>1978-05-08</td>\n",
       "      <td>Cuesta de Teófilo Somoza 3 Puerta 8 , Huelva, ...</td>\n",
       "      <td>05617</td>\n",
       "      <td>Soria</td>\n",
       "      <td>770595376</td>\n",
       "      <td>hcalatayud@example.com</td>\n",
       "      <td>False</td>\n",
       "      <td>Gerente de sucursales de bancos, de servicios ...</td>\n",
       "      <td>5444.37</td>\n",
       "      <td>ES4882819013135814761921</td>\n",
       "      <td>corriente</td>\n",
       "      <td>59066.89</td>\n",
       "      <td>2020-10-19</td>\n",
       "      <td>Masculino</td>\n",
       "    </tr>\n",
       "    <tr>\n",
       "      <th>2</th>\n",
       "      <td>3</td>\n",
       "      <td>Dorita</td>\n",
       "      <td>Tejera</td>\n",
       "      <td>Soltera</td>\n",
       "      <td>89546650Z</td>\n",
       "      <td>Argentina</td>\n",
       "      <td>1962-01-16</td>\n",
       "      <td>Camino de Danilo Roldan 54 Puerta 7 , La Coruñ...</td>\n",
       "      <td>33705</td>\n",
       "      <td>Cádiz</td>\n",
       "      <td>664201115</td>\n",
       "      <td>julietapi@example.org</td>\n",
       "      <td>False</td>\n",
       "      <td>Peón de jardinería y horticultura</td>\n",
       "      <td>3235.68</td>\n",
       "      <td>ES8896352888935177230208</td>\n",
       "      <td>corriente</td>\n",
       "      <td>69020.29</td>\n",
       "      <td>2020-08-31</td>\n",
       "      <td>Femenino</td>\n",
       "    </tr>\n",
       "    <tr>\n",
       "      <th>3</th>\n",
       "      <td>4</td>\n",
       "      <td>Mario</td>\n",
       "      <td>Lopez</td>\n",
       "      <td>Casado</td>\n",
       "      <td>79407181A</td>\n",
       "      <td>Armenia</td>\n",
       "      <td>1958-02-09</td>\n",
       "      <td>Acceso Cebrián Balaguer 75 Piso 0 , Pontevedra...</td>\n",
       "      <td>51941</td>\n",
       "      <td>Jaén</td>\n",
       "      <td>612845864</td>\n",
       "      <td>rinconirma@example.org</td>\n",
       "      <td>False</td>\n",
       "      <td>Vendedor de quioscos y de puestos de mercado</td>\n",
       "      <td>3592.85</td>\n",
       "      <td>ES8080924363933477280294</td>\n",
       "      <td>corriente</td>\n",
       "      <td>43431.75</td>\n",
       "      <td>2021-06-20</td>\n",
       "      <td>Masculino</td>\n",
       "    </tr>\n",
       "    <tr>\n",
       "      <th>4</th>\n",
       "      <td>5</td>\n",
       "      <td>Luciano</td>\n",
       "      <td>Osorio</td>\n",
       "      <td>Divorciado</td>\n",
       "      <td>11417891R</td>\n",
       "      <td>Croata</td>\n",
       "      <td>1987-02-23</td>\n",
       "      <td>Calle de Obdulia Múñiz 89 Piso 1 , Almería, 37332</td>\n",
       "      <td>27760</td>\n",
       "      <td>Asturias</td>\n",
       "      <td>682543717</td>\n",
       "      <td>ciriaco75@example.net</td>\n",
       "      <td>False</td>\n",
       "      <td>Mecánico y reparador de máquinas agrícolas e i...</td>\n",
       "      <td>1302.73</td>\n",
       "      <td>ES9451266251700653094652</td>\n",
       "      <td>corriente</td>\n",
       "      <td>24346.41</td>\n",
       "      <td>2020-09-10</td>\n",
       "      <td>Masculino</td>\n",
       "    </tr>\n",
       "  </tbody>\n",
       "</table>\n",
       "</div>"
      ],
      "text/plain": [
       "   id    nombre apellido estado_civil        dni nacionalidad  \\\n",
       "0   1     Isaac      Bas      Soltero  50803891L    Andorrana   \n",
       "1   2  Sandalio  Fuentes   Divorciado  86252814P      Noruega   \n",
       "2   3    Dorita   Tejera      Soltera  89546650Z    Argentina   \n",
       "3   4     Mario    Lopez       Casado  79407181A      Armenia   \n",
       "4   5   Luciano   Osorio   Divorciado  11417891R       Croata   \n",
       "\n",
       "  fecha_nacimiento                                          direccion  \\\n",
       "0       1976-08-03           Acceso de Lupe Alegre 4, Albacete, 49375   \n",
       "1       1978-05-08  Cuesta de Teófilo Somoza 3 Puerta 8 , Huelva, ...   \n",
       "2       1962-01-16  Camino de Danilo Roldan 54 Puerta 7 , La Coruñ...   \n",
       "3       1958-02-09  Acceso Cebrián Balaguer 75 Piso 0 , Pontevedra...   \n",
       "4       1987-02-23  Calle de Obdulia Múñiz 89 Piso 1 , Almería, 37332   \n",
       "\n",
       "  codigo_postal provincia   telefono                   email  es_moroso  \\\n",
       "0         04461  Zaragoza  612998046    pepita46@example.net      False   \n",
       "1         05617     Soria  770595376  hcalatayud@example.com      False   \n",
       "2         33705     Cádiz  664201115   julietapi@example.org      False   \n",
       "3         51941      Jaén  612845864  rinconirma@example.org      False   \n",
       "4         27760  Asturias  682543717   ciriaco75@example.net      False   \n",
       "\n",
       "                                           profesion  salario  \\\n",
       "0  Preparador y elaborador de tabaco y sus productos  2982.68   \n",
       "1  Gerente de sucursales de bancos, de servicios ...  5444.37   \n",
       "2                  Peón de jardinería y horticultura  3235.68   \n",
       "3       Vendedor de quioscos y de puestos de mercado  3592.85   \n",
       "4  Mecánico y reparador de máquinas agrícolas e i...  1302.73   \n",
       "\n",
       "              numero_cuenta tipo_cuenta     saldo antiguedad_cliente  \\\n",
       "0  ES3179968971026971199366   corriente  71063.73         2021-10-30   \n",
       "1  ES4882819013135814761921   corriente  59066.89         2020-10-19   \n",
       "2  ES8896352888935177230208   corriente  69020.29         2020-08-31   \n",
       "3  ES8080924363933477280294   corriente  43431.75         2021-06-20   \n",
       "4  ES9451266251700653094652   corriente  24346.41         2020-09-10   \n",
       "\n",
       "      genero  \n",
       "0  Masculino  \n",
       "1  Masculino  \n",
       "2   Femenino  \n",
       "3  Masculino  \n",
       "4  Masculino  "
      ]
     },
     "execution_count": 28,
     "metadata": {},
     "output_type": "execute_result"
    }
   ],
   "source": [
    "query_usuarios = \"SELECT * FROM usuarios\" \n",
    "df_usuarios = pd.read_sql(query_usuarios, conn)\n",
    "df_usuarios.head()"
   ]
  },
  {
   "cell_type": "code",
   "execution_count": 29,
   "id": "59daaced",
   "metadata": {},
   "outputs": [
    {
     "data": {
      "text/plain": [
       "np.int64(0)"
      ]
     },
     "execution_count": 29,
     "metadata": {},
     "output_type": "execute_result"
    }
   ],
   "source": [
    "df_usuarios.duplicated().sum() #comprueba si hay duplicados"
   ]
  },
  {
   "cell_type": "code",
   "execution_count": 30,
   "id": "03542c21",
   "metadata": {},
   "outputs": [
    {
     "data": {
      "text/plain": [
       "id                    0\n",
       "nombre                0\n",
       "apellido              0\n",
       "estado_civil          0\n",
       "dni                   0\n",
       "nacionalidad          0\n",
       "fecha_nacimiento      0\n",
       "direccion             0\n",
       "codigo_postal         0\n",
       "provincia             0\n",
       "telefono              0\n",
       "email                 0\n",
       "es_moroso             0\n",
       "profesion             0\n",
       "salario               0\n",
       "numero_cuenta         0\n",
       "tipo_cuenta           0\n",
       "saldo                 0\n",
       "antiguedad_cliente    0\n",
       "genero                0\n",
       "dtype: int64"
      ]
     },
     "execution_count": 30,
     "metadata": {},
     "output_type": "execute_result"
    }
   ],
   "source": [
    "df_usuarios.isnull().sum() #comprueba si hay valores nulos"
   ]
  },
  {
   "cell_type": "code",
   "execution_count": 31,
   "id": "2a011dc0",
   "metadata": {},
   "outputs": [
    {
     "data": {
      "text/plain": [
       "id                      int64\n",
       "nombre                 object\n",
       "apellido               object\n",
       "estado_civil           object\n",
       "dni                    object\n",
       "nacionalidad           object\n",
       "fecha_nacimiento       object\n",
       "direccion              object\n",
       "codigo_postal          object\n",
       "provincia              object\n",
       "telefono               object\n",
       "email                  object\n",
       "es_moroso                bool\n",
       "profesion              object\n",
       "salario               float64\n",
       "numero_cuenta          object\n",
       "tipo_cuenta            object\n",
       "saldo                 float64\n",
       "antiguedad_cliente     object\n",
       "genero                 object\n",
       "dtype: object"
      ]
     },
     "execution_count": 31,
     "metadata": {},
     "output_type": "execute_result"
    }
   ],
   "source": [
    "df_usuarios.dtypes"
   ]
  },
  {
   "cell_type": "code",
   "execution_count": 32,
   "id": "a032721d",
   "metadata": {},
   "outputs": [
    {
     "data": {
      "text/html": [
       "<div>\n",
       "<style scoped>\n",
       "    .dataframe tbody tr th:only-of-type {\n",
       "        vertical-align: middle;\n",
       "    }\n",
       "\n",
       "    .dataframe tbody tr th {\n",
       "        vertical-align: top;\n",
       "    }\n",
       "\n",
       "    .dataframe thead th {\n",
       "        text-align: right;\n",
       "    }\n",
       "</style>\n",
       "<table border=\"1\" class=\"dataframe\">\n",
       "  <thead>\n",
       "    <tr style=\"text-align: right;\">\n",
       "      <th></th>\n",
       "      <th>id</th>\n",
       "      <th>usuario_id</th>\n",
       "      <th>tipo_activo</th>\n",
       "      <th>descripcion</th>\n",
       "      <th>monto</th>\n",
       "    </tr>\n",
       "  </thead>\n",
       "  <tbody>\n",
       "    <tr>\n",
       "      <th>0</th>\n",
       "      <td>1</td>\n",
       "      <td>7</td>\n",
       "      <td>ahorro</td>\n",
       "      <td>Activos financieros</td>\n",
       "      <td>74284.27</td>\n",
       "    </tr>\n",
       "    <tr>\n",
       "      <th>1</th>\n",
       "      <td>2</td>\n",
       "      <td>8</td>\n",
       "      <td>ahorro</td>\n",
       "      <td>Activos financieros</td>\n",
       "      <td>14384.02</td>\n",
       "    </tr>\n",
       "    <tr>\n",
       "      <th>2</th>\n",
       "      <td>3</td>\n",
       "      <td>7</td>\n",
       "      <td>inversiones</td>\n",
       "      <td>Activos financieros</td>\n",
       "      <td>222459.66</td>\n",
       "    </tr>\n",
       "    <tr>\n",
       "      <th>3</th>\n",
       "      <td>4</td>\n",
       "      <td>3</td>\n",
       "      <td>ahorro</td>\n",
       "      <td>Activos financieros</td>\n",
       "      <td>59254.00</td>\n",
       "    </tr>\n",
       "    <tr>\n",
       "      <th>4</th>\n",
       "      <td>5</td>\n",
       "      <td>5</td>\n",
       "      <td>ahorro</td>\n",
       "      <td>Activos financieros</td>\n",
       "      <td>9822.68</td>\n",
       "    </tr>\n",
       "  </tbody>\n",
       "</table>\n",
       "</div>"
      ],
      "text/plain": [
       "   id  usuario_id  tipo_activo          descripcion      monto\n",
       "0   1           7       ahorro  Activos financieros   74284.27\n",
       "1   2           8       ahorro  Activos financieros   14384.02\n",
       "2   3           7  inversiones  Activos financieros  222459.66\n",
       "3   4           3       ahorro  Activos financieros   59254.00\n",
       "4   5           5       ahorro  Activos financieros    9822.68"
      ]
     },
     "execution_count": 32,
     "metadata": {},
     "output_type": "execute_result"
    }
   ],
   "source": [
    "query_activos = \"SELECT * FROM activos_financieros\" \n",
    "df_activos = pd.read_sql(query_activos, conn)\n",
    "df_activos.head()"
   ]
  },
  {
   "cell_type": "code",
   "execution_count": 33,
   "id": "1582677c",
   "metadata": {},
   "outputs": [
    {
     "data": {
      "text/plain": [
       "np.int64(0)"
      ]
     },
     "execution_count": 33,
     "metadata": {},
     "output_type": "execute_result"
    }
   ],
   "source": [
    "df_activos.duplicated().sum() #comprueba si hay duplicados"
   ]
  },
  {
   "cell_type": "code",
   "execution_count": 34,
   "id": "37f96295",
   "metadata": {},
   "outputs": [
    {
     "data": {
      "text/plain": [
       "id             0\n",
       "usuario_id     0\n",
       "tipo_activo    0\n",
       "descripcion    0\n",
       "monto          0\n",
       "dtype: int64"
      ]
     },
     "execution_count": 34,
     "metadata": {},
     "output_type": "execute_result"
    }
   ],
   "source": [
    "df_activos.isnull().sum() #comprueba si hay valores nulos"
   ]
  },
  {
   "cell_type": "code",
   "execution_count": 35,
   "id": "2dffdfe5",
   "metadata": {},
   "outputs": [
    {
     "data": {
      "text/plain": [
       "id               int64\n",
       "usuario_id       int64\n",
       "tipo_activo     object\n",
       "descripcion     object\n",
       "monto          float64\n",
       "dtype: object"
      ]
     },
     "execution_count": 35,
     "metadata": {},
     "output_type": "execute_result"
    }
   ],
   "source": [
    "df_activos.dtypes"
   ]
  },
  {
   "cell_type": "code",
   "execution_count": 36,
   "id": "79976566",
   "metadata": {},
   "outputs": [
    {
     "data": {
      "text/html": [
       "<div>\n",
       "<style scoped>\n",
       "    .dataframe tbody tr th:only-of-type {\n",
       "        vertical-align: middle;\n",
       "    }\n",
       "\n",
       "    .dataframe tbody tr th {\n",
       "        vertical-align: top;\n",
       "    }\n",
       "\n",
       "    .dataframe thead th {\n",
       "        text-align: right;\n",
       "    }\n",
       "</style>\n",
       "<table border=\"1\" class=\"dataframe\">\n",
       "  <thead>\n",
       "    <tr style=\"text-align: right;\">\n",
       "      <th></th>\n",
       "      <th>id</th>\n",
       "      <th>usuario_id</th>\n",
       "      <th>monto</th>\n",
       "      <th>fecha_inicio</th>\n",
       "      <th>fecha_fin</th>\n",
       "      <th>estado</th>\n",
       "      <th>tipo</th>\n",
       "    </tr>\n",
       "  </thead>\n",
       "  <tbody>\n",
       "    <tr>\n",
       "      <th>0</th>\n",
       "      <td>1</td>\n",
       "      <td>3479</td>\n",
       "      <td>13158.92</td>\n",
       "      <td>2021-06-27</td>\n",
       "      <td>2021-12-24</td>\n",
       "      <td>Pagado</td>\n",
       "      <td>Automotriz</td>\n",
       "    </tr>\n",
       "    <tr>\n",
       "      <th>1</th>\n",
       "      <td>2</td>\n",
       "      <td>9766</td>\n",
       "      <td>27855.84</td>\n",
       "      <td>2021-06-27</td>\n",
       "      <td>2025-06-06</td>\n",
       "      <td>Pagado</td>\n",
       "      <td>Estudiantil</td>\n",
       "    </tr>\n",
       "    <tr>\n",
       "      <th>2</th>\n",
       "      <td>3</td>\n",
       "      <td>5687</td>\n",
       "      <td>24341.30</td>\n",
       "      <td>2020-10-02</td>\n",
       "      <td>2022-09-22</td>\n",
       "      <td>Activo</td>\n",
       "      <td>Hipotecario</td>\n",
       "    </tr>\n",
       "    <tr>\n",
       "      <th>3</th>\n",
       "      <td>4</td>\n",
       "      <td>6279</td>\n",
       "      <td>48965.73</td>\n",
       "      <td>2022-11-18</td>\n",
       "      <td>2023-11-13</td>\n",
       "      <td>Moroso</td>\n",
       "      <td>Personal</td>\n",
       "    </tr>\n",
       "    <tr>\n",
       "      <th>4</th>\n",
       "      <td>5</td>\n",
       "      <td>496</td>\n",
       "      <td>5623.96</td>\n",
       "      <td>2022-08-16</td>\n",
       "      <td>2026-07-26</td>\n",
       "      <td>Pagado</td>\n",
       "      <td>Personal</td>\n",
       "    </tr>\n",
       "  </tbody>\n",
       "</table>\n",
       "</div>"
      ],
      "text/plain": [
       "   id  usuario_id     monto fecha_inicio   fecha_fin  estado         tipo\n",
       "0   1        3479  13158.92   2021-06-27  2021-12-24  Pagado   Automotriz\n",
       "1   2        9766  27855.84   2021-06-27  2025-06-06  Pagado  Estudiantil\n",
       "2   3        5687  24341.30   2020-10-02  2022-09-22  Activo  Hipotecario\n",
       "3   4        6279  48965.73   2022-11-18  2023-11-13  Moroso     Personal\n",
       "4   5         496   5623.96   2022-08-16  2026-07-26  Pagado     Personal"
      ]
     },
     "execution_count": 36,
     "metadata": {},
     "output_type": "execute_result"
    }
   ],
   "source": [
    "query_creditos = \"SELECT * FROM creditos\" \n",
    "df_creditos = pd.read_sql(query_creditos, conn)\n",
    "df_creditos.head()"
   ]
  },
  {
   "cell_type": "code",
   "execution_count": 37,
   "id": "b19ac756",
   "metadata": {},
   "outputs": [
    {
     "data": {
      "text/plain": [
       "np.int64(0)"
      ]
     },
     "execution_count": 37,
     "metadata": {},
     "output_type": "execute_result"
    }
   ],
   "source": [
    "df_creditos.duplicated().sum() #comprueba si hay duplicados"
   ]
  },
  {
   "cell_type": "code",
   "execution_count": 38,
   "id": "cbe37efd",
   "metadata": {},
   "outputs": [
    {
     "data": {
      "text/plain": [
       "id              0\n",
       "usuario_id      0\n",
       "monto           0\n",
       "fecha_inicio    0\n",
       "fecha_fin       0\n",
       "estado          0\n",
       "tipo            0\n",
       "dtype: int64"
      ]
     },
     "execution_count": 38,
     "metadata": {},
     "output_type": "execute_result"
    }
   ],
   "source": [
    "df_creditos.isnull().sum() #comprueba si hay valores nulos"
   ]
  },
  {
   "cell_type": "code",
   "execution_count": 39,
   "id": "daf29c6a",
   "metadata": {},
   "outputs": [
    {
     "data": {
      "text/plain": [
       "id                int64\n",
       "usuario_id        int64\n",
       "monto           float64\n",
       "fecha_inicio     object\n",
       "fecha_fin        object\n",
       "estado           object\n",
       "tipo             object\n",
       "dtype: object"
      ]
     },
     "execution_count": 39,
     "metadata": {},
     "output_type": "execute_result"
    }
   ],
   "source": [
    "df_creditos.dtypes"
   ]
  },
  {
   "cell_type": "code",
   "execution_count": 40,
   "id": "727e2c41",
   "metadata": {},
   "outputs": [],
   "source": [
    "#cambiamos fecha_inicio y fecha_fin a datetime\n",
    "df_creditos['fecha_inicio'] = pd.to_datetime(df_creditos['fecha_inicio'])\n",
    "df_creditos['fecha_fin'] = pd.to_datetime(df_creditos['fecha_fin'])"
   ]
  },
  {
   "cell_type": "code",
   "execution_count": 41,
   "id": "32658df6",
   "metadata": {},
   "outputs": [
    {
     "data": {
      "text/html": [
       "<div>\n",
       "<style scoped>\n",
       "    .dataframe tbody tr th:only-of-type {\n",
       "        vertical-align: middle;\n",
       "    }\n",
       "\n",
       "    .dataframe tbody tr th {\n",
       "        vertical-align: top;\n",
       "    }\n",
       "\n",
       "    .dataframe thead th {\n",
       "        text-align: right;\n",
       "    }\n",
       "</style>\n",
       "<table border=\"1\" class=\"dataframe\">\n",
       "  <thead>\n",
       "    <tr style=\"text-align: right;\">\n",
       "      <th></th>\n",
       "      <th>id</th>\n",
       "      <th>usuario_id</th>\n",
       "      <th>numero_cuenta</th>\n",
       "      <th>tipo_cuenta</th>\n",
       "      <th>saldo</th>\n",
       "    </tr>\n",
       "  </thead>\n",
       "  <tbody>\n",
       "    <tr>\n",
       "      <th>0</th>\n",
       "      <td>1</td>\n",
       "      <td>10</td>\n",
       "      <td>ES7739637164360193114526</td>\n",
       "      <td>ahorro</td>\n",
       "      <td>66755.89</td>\n",
       "    </tr>\n",
       "    <tr>\n",
       "      <th>1</th>\n",
       "      <td>2</td>\n",
       "      <td>10</td>\n",
       "      <td>ES1316574526906275603407</td>\n",
       "      <td>empresa</td>\n",
       "      <td>95837.31</td>\n",
       "    </tr>\n",
       "    <tr>\n",
       "      <th>2</th>\n",
       "      <td>3</td>\n",
       "      <td>3</td>\n",
       "      <td>ES5865885769854836821457</td>\n",
       "      <td>nómina</td>\n",
       "      <td>42972.24</td>\n",
       "    </tr>\n",
       "    <tr>\n",
       "      <th>3</th>\n",
       "      <td>4</td>\n",
       "      <td>4</td>\n",
       "      <td>ES5167158907887819348998</td>\n",
       "      <td>ahorro</td>\n",
       "      <td>899.28</td>\n",
       "    </tr>\n",
       "    <tr>\n",
       "      <th>4</th>\n",
       "      <td>5</td>\n",
       "      <td>1</td>\n",
       "      <td>ES4649322614789355112278</td>\n",
       "      <td>nómina</td>\n",
       "      <td>88410.84</td>\n",
       "    </tr>\n",
       "  </tbody>\n",
       "</table>\n",
       "</div>"
      ],
      "text/plain": [
       "   id  usuario_id             numero_cuenta tipo_cuenta     saldo\n",
       "0   1          10  ES7739637164360193114526      ahorro  66755.89\n",
       "1   2          10  ES1316574526906275603407     empresa  95837.31\n",
       "2   3           3  ES5865885769854836821457      nómina  42972.24\n",
       "3   4           4  ES5167158907887819348998      ahorro    899.28\n",
       "4   5           1  ES4649322614789355112278      nómina  88410.84"
      ]
     },
     "execution_count": 41,
     "metadata": {},
     "output_type": "execute_result"
    }
   ],
   "source": [
    "query_cuentas = \"SELECT * FROM cuentas_bancarias\" \n",
    "df_cuentas = pd.read_sql(query_cuentas, conn)\n",
    "df_cuentas.head()"
   ]
  },
  {
   "cell_type": "code",
   "execution_count": 42,
   "id": "94083b6e",
   "metadata": {},
   "outputs": [
    {
     "data": {
      "text/plain": [
       "id               0\n",
       "usuario_id       0\n",
       "numero_cuenta    0\n",
       "tipo_cuenta      0\n",
       "saldo            0\n",
       "dtype: int64"
      ]
     },
     "execution_count": 42,
     "metadata": {},
     "output_type": "execute_result"
    }
   ],
   "source": [
    "df_cuentas.isnull().sum() #comprueba si hay valores nulos"
   ]
  },
  {
   "cell_type": "code",
   "execution_count": 43,
   "id": "62141b60",
   "metadata": {},
   "outputs": [
    {
     "data": {
      "text/plain": [
       "np.int64(0)"
      ]
     },
     "execution_count": 43,
     "metadata": {},
     "output_type": "execute_result"
    }
   ],
   "source": [
    "df_cuentas.duplicated().sum() #comprueba si hay duplicados"
   ]
  },
  {
   "cell_type": "code",
   "execution_count": 44,
   "id": "42e50b44",
   "metadata": {},
   "outputs": [
    {
     "data": {
      "text/plain": [
       "id                 int64\n",
       "usuario_id         int64\n",
       "numero_cuenta     object\n",
       "tipo_cuenta       object\n",
       "saldo            float64\n",
       "dtype: object"
      ]
     },
     "execution_count": 44,
     "metadata": {},
     "output_type": "execute_result"
    }
   ],
   "source": [
    "df_cuentas.dtypes"
   ]
  },
  {
   "cell_type": "code",
   "execution_count": 45,
   "id": "b33279c5",
   "metadata": {},
   "outputs": [
    {
     "data": {
      "text/html": [
       "<div>\n",
       "<style scoped>\n",
       "    .dataframe tbody tr th:only-of-type {\n",
       "        vertical-align: middle;\n",
       "    }\n",
       "\n",
       "    .dataframe tbody tr th {\n",
       "        vertical-align: top;\n",
       "    }\n",
       "\n",
       "    .dataframe thead th {\n",
       "        text-align: right;\n",
       "    }\n",
       "</style>\n",
       "<table border=\"1\" class=\"dataframe\">\n",
       "  <thead>\n",
       "    <tr style=\"text-align: right;\">\n",
       "      <th></th>\n",
       "      <th>id</th>\n",
       "      <th>usuario_id</th>\n",
       "      <th>tipo_moneda</th>\n",
       "      <th>cantidad</th>\n",
       "      <th>valor_actual</th>\n",
       "    </tr>\n",
       "  </thead>\n",
       "  <tbody>\n",
       "    <tr>\n",
       "      <th>0</th>\n",
       "      <td>1</td>\n",
       "      <td>5</td>\n",
       "      <td>ADA</td>\n",
       "      <td>8727.795885</td>\n",
       "      <td>0.79</td>\n",
       "    </tr>\n",
       "    <tr>\n",
       "      <th>1</th>\n",
       "      <td>2</td>\n",
       "      <td>7</td>\n",
       "      <td>BTC</td>\n",
       "      <td>1.137435</td>\n",
       "      <td>56869.56</td>\n",
       "    </tr>\n",
       "    <tr>\n",
       "      <th>2</th>\n",
       "      <td>3</td>\n",
       "      <td>9</td>\n",
       "      <td>BTC</td>\n",
       "      <td>0.479071</td>\n",
       "      <td>50116.50</td>\n",
       "    </tr>\n",
       "    <tr>\n",
       "      <th>3</th>\n",
       "      <td>4</td>\n",
       "      <td>9</td>\n",
       "      <td>XRP</td>\n",
       "      <td>12265.715992</td>\n",
       "      <td>0.30</td>\n",
       "    </tr>\n",
       "    <tr>\n",
       "      <th>4</th>\n",
       "      <td>5</td>\n",
       "      <td>4</td>\n",
       "      <td>ETH</td>\n",
       "      <td>8.786425</td>\n",
       "      <td>2443.99</td>\n",
       "    </tr>\n",
       "  </tbody>\n",
       "</table>\n",
       "</div>"
      ],
      "text/plain": [
       "   id  usuario_id tipo_moneda      cantidad  valor_actual\n",
       "0   1           5         ADA   8727.795885          0.79\n",
       "1   2           7         BTC      1.137435      56869.56\n",
       "2   3           9         BTC      0.479071      50116.50\n",
       "3   4           9         XRP  12265.715992          0.30\n",
       "4   5           4         ETH      8.786425       2443.99"
      ]
     },
     "execution_count": 45,
     "metadata": {},
     "output_type": "execute_result"
    }
   ],
   "source": [
    "query_monedas = \"SELECT * FROM monedas_digitales\" \n",
    "df_monedas = pd.read_sql(query_monedas, conn)\n",
    "df_monedas.head()"
   ]
  },
  {
   "cell_type": "code",
   "execution_count": 46,
   "id": "504b5291",
   "metadata": {},
   "outputs": [
    {
     "data": {
      "text/plain": [
       "np.int64(0)"
      ]
     },
     "execution_count": 46,
     "metadata": {},
     "output_type": "execute_result"
    }
   ],
   "source": [
    "df_monedas.duplicated().sum() #comprueba si hay duplicados"
   ]
  },
  {
   "cell_type": "code",
   "execution_count": 47,
   "id": "c8a48a3b",
   "metadata": {},
   "outputs": [
    {
     "data": {
      "text/plain": [
       "id              0\n",
       "usuario_id      0\n",
       "tipo_moneda     0\n",
       "cantidad        0\n",
       "valor_actual    0\n",
       "dtype: int64"
      ]
     },
     "execution_count": 47,
     "metadata": {},
     "output_type": "execute_result"
    }
   ],
   "source": [
    "df_monedas.isnull().sum() #comprueba si hay valores nulos"
   ]
  },
  {
   "cell_type": "code",
   "execution_count": 48,
   "id": "b34cf68e",
   "metadata": {},
   "outputs": [
    {
     "data": {
      "text/plain": [
       "id                int64\n",
       "usuario_id        int64\n",
       "tipo_moneda      object\n",
       "cantidad        float64\n",
       "valor_actual    float64\n",
       "dtype: object"
      ]
     },
     "execution_count": 48,
     "metadata": {},
     "output_type": "execute_result"
    }
   ],
   "source": [
    "df_monedas.dtypes"
   ]
  }
 ],
 "metadata": {
  "kernelspec": {
   "display_name": ".venv",
   "language": "python",
   "name": "python3"
  },
  "language_info": {
   "codemirror_mode": {
    "name": "ipython",
    "version": 3
   },
   "file_extension": ".py",
   "mimetype": "text/x-python",
   "name": "python",
   "nbconvert_exporter": "python",
   "pygments_lexer": "ipython3",
   "version": "3.13.1"
  }
 },
 "nbformat": 4,
 "nbformat_minor": 5
}
