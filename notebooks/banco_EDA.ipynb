{
 "cells": [
  {
   "cell_type": "code",
   "execution_count": 23,
   "id": "6b07936c",
   "metadata": {},
   "outputs": [
    {
     "name": "stdout",
     "output_type": "stream",
     "text": [
      "Usuario: vanesa\n",
      "Contraseña cargada: True\n"
     ]
    }
   ],
   "source": [
    "import os\n",
    "import pyodbc\n",
    "import pandas as pd\n",
    "import matplotlib.pyplot as plt\n",
    "import seaborn as sns\n",
    "from dotenv import load_dotenv\n",
    "import warnings\n",
    "warnings.filterwarnings('ignore')\n",
    "\n",
    "\n",
    "# Cargar archivo .env\n",
    "# Ruta relativa desde el notebook hasta el .env\n",
    "dotenv_path = '../generadores/.env'  #\n",
    "\n",
    "# Cargar el archivo .env desde la ruta especificada\n",
    "load_dotenv(dotenv_path=dotenv_path)\n",
    "\n",
    "# Leer variables de entorno\n",
    "username = os.getenv(\"USUARIO_DB\")\n",
    "password = os.getenv(\"CLAVE_BD\")\n",
    "\n",
    "# Validar que se cargaron bien\n",
    "print(\"Usuario:\", username)\n",
    "print(\"Contraseña cargada:\", bool(password))  # No imprime la clave, pero verifica si existe\n",
    "\n",
    "if not username or not password:\n",
    "    raise ValueError(\"Las variables de entorno USUARIO_DB o CLAVE_BD no están definidas\")\n",
    "\n",
    "# Cadena de conexión\n",
    "conn_str = (\n",
    "    'DRIVER={ODBC Driver 17 for SQL Server};'\n",
    "    'SERVER=upgradeserver-vf.database.windows.net;'\n",
    "    'DATABASE=Banco;'\n",
    "    f'UID={username};'\n",
    "    f'PWD={password}'\n",
    ")\n",
    "\n",
    "# Conexión\n",
    "conn = pyodbc.connect(conn_str)\n",
    "\n"
   ]
  },
  {
   "cell_type": "code",
   "execution_count": 10,
   "id": "32778ad2",
   "metadata": {},
   "outputs": [
    {
     "data": {
      "text/html": [
       "<div>\n",
       "<style scoped>\n",
       "    .dataframe tbody tr th:only-of-type {\n",
       "        vertical-align: middle;\n",
       "    }\n",
       "\n",
       "    .dataframe tbody tr th {\n",
       "        vertical-align: top;\n",
       "    }\n",
       "\n",
       "    .dataframe thead th {\n",
       "        text-align: right;\n",
       "    }\n",
       "</style>\n",
       "<table border=\"1\" class=\"dataframe\">\n",
       "  <thead>\n",
       "    <tr style=\"text-align: right;\">\n",
       "      <th></th>\n",
       "      <th>id</th>\n",
       "      <th>nombre</th>\n",
       "      <th>apellido</th>\n",
       "      <th>estado_civil</th>\n",
       "      <th>dni</th>\n",
       "      <th>nacionalidad</th>\n",
       "      <th>fecha_nacimiento</th>\n",
       "      <th>direccion</th>\n",
       "      <th>codigo_postal</th>\n",
       "      <th>provincia</th>\n",
       "      <th>telefono</th>\n",
       "      <th>email</th>\n",
       "      <th>es_moroso</th>\n",
       "    </tr>\n",
       "  </thead>\n",
       "  <tbody>\n",
       "    <tr>\n",
       "      <th>0</th>\n",
       "      <td>1</td>\n",
       "      <td>Ana</td>\n",
       "      <td>García</td>\n",
       "      <td>Soltera</td>\n",
       "      <td>12345678A</td>\n",
       "      <td>Argentina</td>\n",
       "      <td>1985-04-12</td>\n",
       "      <td>Calle Falsa 123</td>\n",
       "      <td>1000</td>\n",
       "      <td>Buenos Aires</td>\n",
       "      <td>3412345678</td>\n",
       "      <td>ana.garcia@email.com</td>\n",
       "      <td>False</td>\n",
       "    </tr>\n",
       "    <tr>\n",
       "      <th>1</th>\n",
       "      <td>2</td>\n",
       "      <td>Juan</td>\n",
       "      <td>Pérez</td>\n",
       "      <td>Casado</td>\n",
       "      <td>23456789B</td>\n",
       "      <td>Argentina</td>\n",
       "      <td>1978-09-23</td>\n",
       "      <td>Av. Siempre Viva 742</td>\n",
       "      <td>2000</td>\n",
       "      <td>Córdoba</td>\n",
       "      <td>3519876543</td>\n",
       "      <td>juan.perez@email.com</td>\n",
       "      <td>False</td>\n",
       "    </tr>\n",
       "    <tr>\n",
       "      <th>2</th>\n",
       "      <td>3</td>\n",
       "      <td>Lucía</td>\n",
       "      <td>Fernández</td>\n",
       "      <td>Soltera</td>\n",
       "      <td>34567890C</td>\n",
       "      <td>Argentina</td>\n",
       "      <td>1990-01-15</td>\n",
       "      <td>Calle Luna 55</td>\n",
       "      <td>3000</td>\n",
       "      <td>Rosario</td>\n",
       "      <td>3411234567</td>\n",
       "      <td>lucia.fernandez@email.com</td>\n",
       "      <td>False</td>\n",
       "    </tr>\n",
       "    <tr>\n",
       "      <th>3</th>\n",
       "      <td>4</td>\n",
       "      <td>Carlos</td>\n",
       "      <td>Rodríguez</td>\n",
       "      <td>Divorciado</td>\n",
       "      <td>45678901D</td>\n",
       "      <td>Argentina</td>\n",
       "      <td>1965-12-05</td>\n",
       "      <td>Boulevard Oro 100</td>\n",
       "      <td>4000</td>\n",
       "      <td>Mendoza</td>\n",
       "      <td>2615551234</td>\n",
       "      <td>carlos.rodriguez@email.com</td>\n",
       "      <td>False</td>\n",
       "    </tr>\n",
       "    <tr>\n",
       "      <th>4</th>\n",
       "      <td>5</td>\n",
       "      <td>Sofía</td>\n",
       "      <td>López</td>\n",
       "      <td>Casada</td>\n",
       "      <td>56789012E</td>\n",
       "      <td>Argentina</td>\n",
       "      <td>1988-07-30</td>\n",
       "      <td>Paseo del Sol 23</td>\n",
       "      <td>5000</td>\n",
       "      <td>Salta</td>\n",
       "      <td>3874123456</td>\n",
       "      <td>sofia.lopez@email.com</td>\n",
       "      <td>False</td>\n",
       "    </tr>\n",
       "  </tbody>\n",
       "</table>\n",
       "</div>"
      ],
      "text/plain": [
       "   id  nombre   apellido estado_civil        dni nacionalidad  \\\n",
       "0   1     Ana     García      Soltera  12345678A    Argentina   \n",
       "1   2    Juan      Pérez       Casado  23456789B    Argentina   \n",
       "2   3   Lucía  Fernández      Soltera  34567890C    Argentina   \n",
       "3   4  Carlos  Rodríguez   Divorciado  45678901D    Argentina   \n",
       "4   5   Sofía      López       Casada  56789012E    Argentina   \n",
       "\n",
       "  fecha_nacimiento             direccion codigo_postal     provincia  \\\n",
       "0       1985-04-12       Calle Falsa 123          1000  Buenos Aires   \n",
       "1       1978-09-23  Av. Siempre Viva 742          2000       Córdoba   \n",
       "2       1990-01-15         Calle Luna 55          3000       Rosario   \n",
       "3       1965-12-05     Boulevard Oro 100          4000       Mendoza   \n",
       "4       1988-07-30      Paseo del Sol 23          5000         Salta   \n",
       "\n",
       "     telefono                       email  es_moroso  \n",
       "0  3412345678        ana.garcia@email.com      False  \n",
       "1  3519876543        juan.perez@email.com      False  \n",
       "2  3411234567   lucia.fernandez@email.com      False  \n",
       "3  2615551234  carlos.rodriguez@email.com      False  \n",
       "4  3874123456       sofia.lopez@email.com      False  "
      ]
     },
     "execution_count": 10,
     "metadata": {},
     "output_type": "execute_result"
    }
   ],
   "source": [
    "# Consulta de prueba\n",
    "query = \"SELECT TOP 5 * FROM usuarios\" \n",
    "df_usuarios = pd.read_sql(query, conn)\n",
    "df_usuarios.head()"
   ]
  },
  {
   "cell_type": "code",
   "execution_count": 11,
   "id": "4526b369",
   "metadata": {},
   "outputs": [
    {
     "data": {
      "text/html": [
       "<div>\n",
       "<style scoped>\n",
       "    .dataframe tbody tr th:only-of-type {\n",
       "        vertical-align: middle;\n",
       "    }\n",
       "\n",
       "    .dataframe tbody tr th {\n",
       "        vertical-align: top;\n",
       "    }\n",
       "\n",
       "    .dataframe thead th {\n",
       "        text-align: right;\n",
       "    }\n",
       "</style>\n",
       "<table border=\"1\" class=\"dataframe\">\n",
       "  <thead>\n",
       "    <tr style=\"text-align: right;\">\n",
       "      <th></th>\n",
       "      <th>id</th>\n",
       "      <th>usuario_id</th>\n",
       "      <th>tipo_activo</th>\n",
       "      <th>descripcion</th>\n",
       "      <th>monto</th>\n",
       "    </tr>\n",
       "  </thead>\n",
       "  <tbody>\n",
       "    <tr>\n",
       "      <th>0</th>\n",
       "      <td>8</td>\n",
       "      <td>6</td>\n",
       "      <td>plan de jubilación</td>\n",
       "      <td>Activo financiero.</td>\n",
       "      <td>232225.49</td>\n",
       "    </tr>\n",
       "    <tr>\n",
       "      <th>1</th>\n",
       "      <td>10</td>\n",
       "      <td>7</td>\n",
       "      <td>ahorro</td>\n",
       "      <td>Activo financiero.</td>\n",
       "      <td>17461.03</td>\n",
       "    </tr>\n",
       "    <tr>\n",
       "      <th>2</th>\n",
       "      <td>11</td>\n",
       "      <td>8</td>\n",
       "      <td>plan de jubilación</td>\n",
       "      <td>Activo financiero.</td>\n",
       "      <td>39493.79</td>\n",
       "    </tr>\n",
       "    <tr>\n",
       "      <th>3</th>\n",
       "      <td>17</td>\n",
       "      <td>11</td>\n",
       "      <td>plan de jubilación</td>\n",
       "      <td>Activo financiero.</td>\n",
       "      <td>13038.66</td>\n",
       "    </tr>\n",
       "    <tr>\n",
       "      <th>4</th>\n",
       "      <td>21</td>\n",
       "      <td>12</td>\n",
       "      <td>inversiones</td>\n",
       "      <td>Activo financiero.</td>\n",
       "      <td>220494.27</td>\n",
       "    </tr>\n",
       "  </tbody>\n",
       "</table>\n",
       "</div>"
      ],
      "text/plain": [
       "   id  usuario_id         tipo_activo         descripcion      monto\n",
       "0   8           6  plan de jubilación  Activo financiero.  232225.49\n",
       "1  10           7              ahorro  Activo financiero.   17461.03\n",
       "2  11           8  plan de jubilación  Activo financiero.   39493.79\n",
       "3  17          11  plan de jubilación  Activo financiero.   13038.66\n",
       "4  21          12         inversiones  Activo financiero.  220494.27"
      ]
     },
     "execution_count": 11,
     "metadata": {},
     "output_type": "execute_result"
    }
   ],
   "source": [
    "\n",
    "# Consulta de prueba\n",
    "query = \"SELECT TOP 5 * FROM activos\" \n",
    "df_activos = pd.read_sql(query, conn)\n",
    "df_activos.head()"
   ]
  },
  {
   "cell_type": "code",
   "execution_count": 12,
   "id": "9c7a6310",
   "metadata": {},
   "outputs": [
    {
     "data": {
      "text/html": [
       "<div>\n",
       "<style scoped>\n",
       "    .dataframe tbody tr th:only-of-type {\n",
       "        vertical-align: middle;\n",
       "    }\n",
       "\n",
       "    .dataframe tbody tr th {\n",
       "        vertical-align: top;\n",
       "    }\n",
       "\n",
       "    .dataframe thead th {\n",
       "        text-align: right;\n",
       "    }\n",
       "</style>\n",
       "<table border=\"1\" class=\"dataframe\">\n",
       "  <thead>\n",
       "    <tr style=\"text-align: right;\">\n",
       "      <th></th>\n",
       "      <th>id</th>\n",
       "      <th>usuario_id</th>\n",
       "      <th>monto</th>\n",
       "      <th>fecha_inicio</th>\n",
       "      <th>fecha_fin</th>\n",
       "      <th>estado</th>\n",
       "    </tr>\n",
       "  </thead>\n",
       "  <tbody>\n",
       "    <tr>\n",
       "      <th>0</th>\n",
       "      <td>1</td>\n",
       "      <td>1</td>\n",
       "      <td>22905.76</td>\n",
       "      <td>2021-05-03</td>\n",
       "      <td>2025-04-12</td>\n",
       "      <td>Pagado</td>\n",
       "    </tr>\n",
       "    <tr>\n",
       "      <th>1</th>\n",
       "      <td>2</td>\n",
       "      <td>1</td>\n",
       "      <td>41092.46</td>\n",
       "      <td>2023-02-15</td>\n",
       "      <td>2026-01-30</td>\n",
       "      <td>Activo</td>\n",
       "    </tr>\n",
       "    <tr>\n",
       "      <th>2</th>\n",
       "      <td>3</td>\n",
       "      <td>2</td>\n",
       "      <td>14227.25</td>\n",
       "      <td>2024-04-16</td>\n",
       "      <td>2024-10-13</td>\n",
       "      <td>Moroso</td>\n",
       "    </tr>\n",
       "    <tr>\n",
       "      <th>3</th>\n",
       "      <td>4</td>\n",
       "      <td>2</td>\n",
       "      <td>43894.30</td>\n",
       "      <td>2022-09-21</td>\n",
       "      <td>2026-08-31</td>\n",
       "      <td>Activo</td>\n",
       "    </tr>\n",
       "    <tr>\n",
       "      <th>4</th>\n",
       "      <td>5</td>\n",
       "      <td>3</td>\n",
       "      <td>14301.29</td>\n",
       "      <td>2024-04-30</td>\n",
       "      <td>2027-04-15</td>\n",
       "      <td>Moroso</td>\n",
       "    </tr>\n",
       "  </tbody>\n",
       "</table>\n",
       "</div>"
      ],
      "text/plain": [
       "   id  usuario_id     monto fecha_inicio   fecha_fin  estado\n",
       "0   1           1  22905.76   2021-05-03  2025-04-12  Pagado\n",
       "1   2           1  41092.46   2023-02-15  2026-01-30  Activo\n",
       "2   3           2  14227.25   2024-04-16  2024-10-13  Moroso\n",
       "3   4           2  43894.30   2022-09-21  2026-08-31  Activo\n",
       "4   5           3  14301.29   2024-04-30  2027-04-15  Moroso"
      ]
     },
     "execution_count": 12,
     "metadata": {},
     "output_type": "execute_result"
    }
   ],
   "source": [
    "\n",
    "# Consulta de prueba\n",
    "query = \"SELECT TOP 5 * FROM creditos\" \n",
    "df_creditos = pd.read_sql(query, conn)\n",
    "df_creditos.head()"
   ]
  },
  {
   "cell_type": "code",
   "execution_count": 13,
   "id": "e40b14e9",
   "metadata": {},
   "outputs": [
    {
     "data": {
      "text/html": [
       "<div>\n",
       "<style scoped>\n",
       "    .dataframe tbody tr th:only-of-type {\n",
       "        vertical-align: middle;\n",
       "    }\n",
       "\n",
       "    .dataframe tbody tr th {\n",
       "        vertical-align: top;\n",
       "    }\n",
       "\n",
       "    .dataframe thead th {\n",
       "        text-align: right;\n",
       "    }\n",
       "</style>\n",
       "<table border=\"1\" class=\"dataframe\">\n",
       "  <thead>\n",
       "    <tr style=\"text-align: right;\">\n",
       "      <th></th>\n",
       "      <th>id</th>\n",
       "      <th>usuario_id</th>\n",
       "      <th>numero_cuenta</th>\n",
       "      <th>tipo_cuenta</th>\n",
       "      <th>saldo</th>\n",
       "    </tr>\n",
       "  </thead>\n",
       "  <tbody>\n",
       "    <tr>\n",
       "      <th>0</th>\n",
       "      <td>1</td>\n",
       "      <td>1</td>\n",
       "      <td>ES3130457829687829864747</td>\n",
       "      <td>ahorro</td>\n",
       "      <td>21387.36</td>\n",
       "    </tr>\n",
       "    <tr>\n",
       "      <th>1</th>\n",
       "      <td>2</td>\n",
       "      <td>2</td>\n",
       "      <td>ES4064531790235106659615</td>\n",
       "      <td>nómina</td>\n",
       "      <td>65356.81</td>\n",
       "    </tr>\n",
       "    <tr>\n",
       "      <th>2</th>\n",
       "      <td>3</td>\n",
       "      <td>2</td>\n",
       "      <td>ES1134649345867669157851</td>\n",
       "      <td>empresa</td>\n",
       "      <td>93538.72</td>\n",
       "    </tr>\n",
       "    <tr>\n",
       "      <th>3</th>\n",
       "      <td>4</td>\n",
       "      <td>3</td>\n",
       "      <td>ES5399834580394434733233</td>\n",
       "      <td>nómina</td>\n",
       "      <td>26849.60</td>\n",
       "    </tr>\n",
       "    <tr>\n",
       "      <th>4</th>\n",
       "      <td>5</td>\n",
       "      <td>3</td>\n",
       "      <td>ES9008699930569074866448</td>\n",
       "      <td>corriente</td>\n",
       "      <td>55160.85</td>\n",
       "    </tr>\n",
       "  </tbody>\n",
       "</table>\n",
       "</div>"
      ],
      "text/plain": [
       "   id  usuario_id             numero_cuenta tipo_cuenta     saldo\n",
       "0   1           1  ES3130457829687829864747      ahorro  21387.36\n",
       "1   2           2  ES4064531790235106659615      nómina  65356.81\n",
       "2   3           2  ES1134649345867669157851     empresa  93538.72\n",
       "3   4           3  ES5399834580394434733233      nómina  26849.60\n",
       "4   5           3  ES9008699930569074866448   corriente  55160.85"
      ]
     },
     "execution_count": 13,
     "metadata": {},
     "output_type": "execute_result"
    }
   ],
   "source": [
    "\n",
    "# Consulta de prueba\n",
    "query = \"SELECT TOP 5 * FROM cuentas_bancarias\" \n",
    "df_cuentas = pd.read_sql(query, conn)\n",
    "df_cuentas.head()"
   ]
  },
  {
   "cell_type": "code",
   "execution_count": 14,
   "id": "bfcd7958",
   "metadata": {},
   "outputs": [
    {
     "data": {
      "text/html": [
       "<div>\n",
       "<style scoped>\n",
       "    .dataframe tbody tr th:only-of-type {\n",
       "        vertical-align: middle;\n",
       "    }\n",
       "\n",
       "    .dataframe tbody tr th {\n",
       "        vertical-align: top;\n",
       "    }\n",
       "\n",
       "    .dataframe thead th {\n",
       "        text-align: right;\n",
       "    }\n",
       "</style>\n",
       "<table border=\"1\" class=\"dataframe\">\n",
       "  <thead>\n",
       "    <tr style=\"text-align: right;\">\n",
       "      <th></th>\n",
       "      <th>id</th>\n",
       "      <th>usuario_id</th>\n",
       "      <th>tipo_moneda</th>\n",
       "      <th>cantidad</th>\n",
       "      <th>valor_actual</th>\n",
       "    </tr>\n",
       "  </thead>\n",
       "  <tbody>\n",
       "    <tr>\n",
       "      <th>0</th>\n",
       "      <td>2</td>\n",
       "      <td>1</td>\n",
       "      <td>USDT</td>\n",
       "      <td>6095.762152</td>\n",
       "      <td>1.00</td>\n",
       "    </tr>\n",
       "    <tr>\n",
       "      <th>1</th>\n",
       "      <td>16</td>\n",
       "      <td>13</td>\n",
       "      <td>SOL</td>\n",
       "      <td>146.161122</td>\n",
       "      <td>23.30</td>\n",
       "    </tr>\n",
       "    <tr>\n",
       "      <th>2</th>\n",
       "      <td>22</td>\n",
       "      <td>15</td>\n",
       "      <td>DOT</td>\n",
       "      <td>393.235081</td>\n",
       "      <td>7.97</td>\n",
       "    </tr>\n",
       "    <tr>\n",
       "      <th>3</th>\n",
       "      <td>27</td>\n",
       "      <td>18</td>\n",
       "      <td>ETH</td>\n",
       "      <td>2.972848</td>\n",
       "      <td>3390.26</td>\n",
       "    </tr>\n",
       "    <tr>\n",
       "      <th>4</th>\n",
       "      <td>45</td>\n",
       "      <td>29</td>\n",
       "      <td>XRP</td>\n",
       "      <td>18395.084351</td>\n",
       "      <td>1.56</td>\n",
       "    </tr>\n",
       "  </tbody>\n",
       "</table>\n",
       "</div>"
      ],
      "text/plain": [
       "   id  usuario_id tipo_moneda      cantidad  valor_actual\n",
       "0   2           1        USDT   6095.762152          1.00\n",
       "1  16          13         SOL    146.161122         23.30\n",
       "2  22          15         DOT    393.235081          7.97\n",
       "3  27          18         ETH      2.972848       3390.26\n",
       "4  45          29         XRP  18395.084351          1.56"
      ]
     },
     "execution_count": 14,
     "metadata": {},
     "output_type": "execute_result"
    }
   ],
   "source": [
    "\n",
    "# Consulta de prueba\n",
    "query = \"SELECT TOP 5 * FROM monedas_digitales\" \n",
    "df_monedas = pd.read_sql(query, conn)\n",
    "df_monedas.head()"
   ]
  },
  {
   "cell_type": "code",
   "execution_count": 15,
   "id": "9d736f66",
   "metadata": {},
   "outputs": [
    {
     "data": {
      "text/html": [
       "<div>\n",
       "<style scoped>\n",
       "    .dataframe tbody tr th:only-of-type {\n",
       "        vertical-align: middle;\n",
       "    }\n",
       "\n",
       "    .dataframe tbody tr th {\n",
       "        vertical-align: top;\n",
       "    }\n",
       "\n",
       "    .dataframe thead th {\n",
       "        text-align: right;\n",
       "    }\n",
       "</style>\n",
       "<table border=\"1\" class=\"dataframe\">\n",
       "  <thead>\n",
       "    <tr style=\"text-align: right;\">\n",
       "      <th></th>\n",
       "      <th>id</th>\n",
       "      <th>usuario_id</th>\n",
       "      <th>nombre_empresa</th>\n",
       "      <th>cargo</th>\n",
       "      <th>salario</th>\n",
       "      <th>antiguedad_anios</th>\n",
       "    </tr>\n",
       "  </thead>\n",
       "  <tbody>\n",
       "    <tr>\n",
       "      <th>0</th>\n",
       "      <td>1</td>\n",
       "      <td>1</td>\n",
       "      <td>Banca Privada OLMJ S.L.N.E</td>\n",
       "      <td>Auxiliar de servicio de abordo</td>\n",
       "      <td>70433.00</td>\n",
       "      <td>1</td>\n",
       "    </tr>\n",
       "    <tr>\n",
       "      <th>1</th>\n",
       "      <td>2</td>\n",
       "      <td>2</td>\n",
       "      <td>Antón y Andrés S.A.</td>\n",
       "      <td>Director de servicios de bienestar social</td>\n",
       "      <td>78807.14</td>\n",
       "      <td>15</td>\n",
       "    </tr>\n",
       "    <tr>\n",
       "      <th>2</th>\n",
       "      <td>3</td>\n",
       "      <td>3</td>\n",
       "      <td>Grupo Rivas S.A.T.</td>\n",
       "      <td>Operador de máquinas de movimiento de tierras</td>\n",
       "      <td>36303.28</td>\n",
       "      <td>6</td>\n",
       "    </tr>\n",
       "    <tr>\n",
       "      <th>3</th>\n",
       "      <td>4</td>\n",
       "      <td>4</td>\n",
       "      <td>Alimentación Cuervo y asociados S.Com.</td>\n",
       "      <td>Chef</td>\n",
       "      <td>73489.36</td>\n",
       "      <td>34</td>\n",
       "    </tr>\n",
       "    <tr>\n",
       "      <th>4</th>\n",
       "      <td>5</td>\n",
       "      <td>5</td>\n",
       "      <td>Manufacturas Españolas S.A.</td>\n",
       "      <td>Bailarín</td>\n",
       "      <td>25128.98</td>\n",
       "      <td>27</td>\n",
       "    </tr>\n",
       "  </tbody>\n",
       "</table>\n",
       "</div>"
      ],
      "text/plain": [
       "   id  usuario_id                          nombre_empresa  \\\n",
       "0   1           1              Banca Privada OLMJ S.L.N.E   \n",
       "1   2           2                     Antón y Andrés S.A.   \n",
       "2   3           3                      Grupo Rivas S.A.T.   \n",
       "3   4           4  Alimentación Cuervo y asociados S.Com.   \n",
       "4   5           5             Manufacturas Españolas S.A.   \n",
       "\n",
       "                                           cargo   salario  antiguedad_anios  \n",
       "0                 Auxiliar de servicio de abordo  70433.00                 1  \n",
       "1      Director de servicios de bienestar social  78807.14                15  \n",
       "2  Operador de máquinas de movimiento de tierras  36303.28                 6  \n",
       "3                                           Chef  73489.36                34  \n",
       "4                                       Bailarín  25128.98                27  "
      ]
     },
     "execution_count": 15,
     "metadata": {},
     "output_type": "execute_result"
    }
   ],
   "source": [
    "\n",
    "# Consulta de prueba\n",
    "query = \"SELECT TOP 5 * FROM empleos\" \n",
    "df_empleos = pd.read_sql(query, conn)\n",
    "df_empleos.head()"
   ]
  },
  {
   "cell_type": "markdown",
   "id": "84367988",
   "metadata": {},
   "source": [
    "##### Comprobamos los tipos"
   ]
  },
  {
   "cell_type": "code",
   "execution_count": 16,
   "id": "f5635ecc",
   "metadata": {},
   "outputs": [
    {
     "data": {
      "text/plain": [
       "id                   int64\n",
       "nombre              object\n",
       "apellido            object\n",
       "estado_civil        object\n",
       "dni                 object\n",
       "nacionalidad        object\n",
       "fecha_nacimiento    object\n",
       "direccion           object\n",
       "codigo_postal       object\n",
       "provincia           object\n",
       "telefono            object\n",
       "email               object\n",
       "es_moroso             bool\n",
       "dtype: object"
      ]
     },
     "execution_count": 16,
     "metadata": {},
     "output_type": "execute_result"
    }
   ],
   "source": [
    "df_usuarios.dtypes"
   ]
  },
  {
   "cell_type": "code",
   "execution_count": 17,
   "id": "05889d14",
   "metadata": {},
   "outputs": [
    {
     "data": {
      "text/plain": [
       "id                    int64\n",
       "usuario_id            int64\n",
       "nombre_empresa       object\n",
       "cargo                object\n",
       "salario             float64\n",
       "antiguedad_anios      int64\n",
       "dtype: object"
      ]
     },
     "execution_count": 17,
     "metadata": {},
     "output_type": "execute_result"
    }
   ],
   "source": [
    "df_empleos.dtypes"
   ]
  },
  {
   "cell_type": "code",
   "execution_count": 18,
   "id": "f854de65",
   "metadata": {},
   "outputs": [
    {
     "data": {
      "text/plain": [
       "id               int64\n",
       "usuario_id       int64\n",
       "tipo_activo     object\n",
       "descripcion     object\n",
       "monto          float64\n",
       "dtype: object"
      ]
     },
     "execution_count": 18,
     "metadata": {},
     "output_type": "execute_result"
    }
   ],
   "source": [
    "df_activos.dtypes"
   ]
  },
  {
   "cell_type": "code",
   "execution_count": 19,
   "id": "a8151220",
   "metadata": {},
   "outputs": [
    {
     "data": {
      "text/plain": [
       "id                int64\n",
       "usuario_id        int64\n",
       "monto           float64\n",
       "fecha_inicio     object\n",
       "fecha_fin        object\n",
       "estado           object\n",
       "dtype: object"
      ]
     },
     "execution_count": 19,
     "metadata": {},
     "output_type": "execute_result"
    }
   ],
   "source": [
    "df_creditos.dtypes"
   ]
  },
  {
   "cell_type": "code",
   "execution_count": 22,
   "id": "f253531b",
   "metadata": {},
   "outputs": [],
   "source": [
    "#cambiamos fecha_inicio y fecha_fin a datetime\n",
    "df_creditos['fecha_inicio'] = pd.to_datetime(df_creditos['fecha_inicio'])\n",
    "df_creditos['fecha_fin'] = pd.to_datetime(df_creditos['fecha_fin'])"
   ]
  },
  {
   "cell_type": "code",
   "execution_count": 20,
   "id": "b43a7870",
   "metadata": {},
   "outputs": [
    {
     "data": {
      "text/plain": [
       "id                 int64\n",
       "usuario_id         int64\n",
       "numero_cuenta     object\n",
       "tipo_cuenta       object\n",
       "saldo            float64\n",
       "dtype: object"
      ]
     },
     "execution_count": 20,
     "metadata": {},
     "output_type": "execute_result"
    }
   ],
   "source": [
    "df_cuentas.dtypes"
   ]
  },
  {
   "cell_type": "code",
   "execution_count": 21,
   "id": "d55a139b",
   "metadata": {},
   "outputs": [
    {
     "data": {
      "text/plain": [
       "id                int64\n",
       "usuario_id        int64\n",
       "tipo_moneda      object\n",
       "cantidad        float64\n",
       "valor_actual    float64\n",
       "dtype: object"
      ]
     },
     "execution_count": 21,
     "metadata": {},
     "output_type": "execute_result"
    }
   ],
   "source": [
    "df_monedas.dtypes"
   ]
  },
  {
   "cell_type": "markdown",
   "id": "f597936d",
   "metadata": {},
   "source": [
    "#### EDA"
   ]
  },
  {
   "cell_type": "code",
   "execution_count": 35,
   "id": "983490ad",
   "metadata": {},
   "outputs": [
    {
     "data": {
      "image/png": "[encoded data removed]",
      "text/plain": [
       "<Figure size 1000x600 with 1 Axes>"
      ]
     },
     "metadata": {},
     "output_type": "display_data"
    }
   ],
   "source": [
    "# Consulta para obtener todos los usuarios\n",
    "query = \"SELECT * FROM usuarios\"\n",
    "df_usuarios = pd.read_sql(query, conn)\n",
    "\n",
    "# Gráfico de barras de la cantidad de usuarios por estado civil\n",
    "plt.figure(figsize=(10, 6))\n",
    "ax = sns.countplot(data=df_usuarios, x='estado_civil', order=df_usuarios['estado_civil'].value_counts().index)\n",
    "plt.title('Cantidad de Usuarios por estado civil')\n",
    "plt.xlabel('Estado Civil')\n",
    "plt.ylabel('Cantidad de Usuarios')\n",
    "plt.xticks(rotation=45)\n",
    "\n",
    "# Añadir etiquetas en las columnas\n",
    "for p in ax.patches:\n",
    "    ax.annotate(f'{int(p.get_height())}', \n",
    "                (p.get_x() + p.get_width() / 2., p.get_height()), \n",
    "                ha='center', va='bottom', fontsize=11)\n",
    "\n",
    "plt.show()"
   ]
  },
  {
   "cell_type": "code",
   "execution_count": 44,
   "id": "6bbb1413",
   "metadata": {},
   "outputs": [
    {
     "data": {
      "image/png": "[encoded data removed]",
      "text/plain": [
       "<Figure size 1400x700 with 1 Axes>"
      ]
     },
     "metadata": {},
     "output_type": "display_data"
    }
   ],
   "source": [
    "# Obtener todos los créditos\n",
    "query = \"SELECT * FROM creditos\"\n",
    "df_creditos = pd.read_sql(query, conn)\n",
    "\n",
    "# Agrupar por usuario_id y contar la cantidad de créditos por cada uno\n",
    "creditos_por_usuario = df_creditos.groupby('usuario_id').size().reset_index(name='creditos')\n",
    "\n",
    "# Gráfico de burbujas: mostrar solo los primeros 30 usuarios\n",
    "plt.figure(figsize=(14, 7))\n",
    "plt.scatter(\n",
    "    creditos_por_usuario['usuario_id'].head(30),\n",
    "    creditos_por_usuario['creditos'].head(30),\n",
    "    s=creditos_por_usuario['creditos'].head(30) * 100,  # tamaño de burbuja\n",
    "    alpha=0.6,\n",
    "    color='skyblue',\n",
    "    edgecolors='k'\n",
    ")\n",
    "plt.title('Cantidad de Créditos por Usuario (Gráfico de Burbujas)')\n",
    "plt.xlabel('ID de Usuario')\n",
    "plt.ylabel('Cantidad de Créditos')\n",
    "plt.xticks(rotation=90)\n",
    "plt.grid(True, linestyle='--', alpha=0.5)\n",
    "plt.tight_layout()\n",
    "plt.show()\n",
    "\n"
   ]
  },
  {
   "cell_type": "code",
   "execution_count": 42,
   "id": "83c82115",
   "metadata": {},
   "outputs": [
    {
     "data": {
      "image/png": "[encoded data removed]",
      "text/plain": [
       "<Figure size 1200x600 with 1 Axes>"
      ]
     },
     "metadata": {},
     "output_type": "display_data"
    }
   ],
   "source": [
    "#calcular la cantidad de creditos por usuario\n",
    "creditos_por_usuario = df_creditos['usuario_id'].value_counts().reset_index()\n",
    "creditos_por_usuario.columns = ['usuario_id', 'creditos']\n",
    "plt.figure(figsize=(12, 6))\n",
    "ax = sns.barplot(\n",
    "    data=creditos_por_usuario.head(30),  # muestra los 30 primeros para mejor visualización\n",
    "    x='usuario_id',\n",
    "    y='creditos',\n",
    "    color='skyblue'\n",
    ")\n",
    "plt.title('Cantidad de Créditos por Usuario')\n",
    "plt.xlabel('ID de Usuario')\n",
    "plt.ylabel('Cantidad de Créditos')\n",
    "plt.xticks(rotation=90)\n",
    "plt.show()"
   ]
  },
  {
   "cell_type": "code",
   "execution_count": null,
   "id": "a08911fb",
   "metadata": {},
   "outputs": [],
   "source": [
    "#creditos por usuari\n",
    "creditos_por_usuario = creditos.groupby('usuario_id').size().reset_index(name='cantidad_creditos')\n",
    "\n",
    "# Top 20 usuarios con más créditos\n",
    "top_creditos = creditos_por_usuario.sort_values('cantidad_creditos', ascending=False).head(20)\n",
    "\n",
    "sns.barplot(data=top_creditos, x='usuario_id', y='cantidad_creditos', palette='Blues_d')\n",
    "plt.title(\"Top 20 Usuarios con más Créditos\")\n",
    "plt.xticks(rotation=90)\n",
    "plt.show()\n"
   ]
  },
  {
   "cell_type": "code",
   "execution_count": null,
   "id": "201b2477",
   "metadata": {},
   "outputs": [],
   "source": [
    "#distribucion de creditos\n",
    "sns.histplot(creditos_por_usuario['cantidad_creditos'], bins=30, kde=True)\n",
    "plt.title(\"Distribución del Número de Créditos por Usuario\")\n",
    "plt.xlabel(\"Cantidad de Créditos\")\n",
    "plt.ylabel(\"Frecuencia\")\n",
    "plt.show()\n"
   ]
  },
  {
   "cell_type": "code",
   "execution_count": null,
   "id": "1d6991a4",
   "metadata": {},
   "outputs": [],
   "source": [
    "#total de monto de creditos por usuario\n",
    "monto_creditos = creditos.groupby('usuario_id')['monto'].sum().reset_index(name='monto_total_creditos')\n",
    "\n",
    "sns.histplot(monto_creditos['monto_total_creditos'], bins=30, kde=True)\n",
    "plt.title(\"Distribución del Monto Total de Créditos\")\n",
    "plt.xlabel(\"Monto Total de Créditos\")\n",
    "plt.ylabel(\"Frecuencia\")\n",
    "plt.show()\n"
   ]
  },
  {
   "cell_type": "code",
   "execution_count": null,
   "id": "d5056c55",
   "metadata": {},
   "outputs": [],
   "source": [
    "#creditos por tipo de empleo\n",
    "creditos_empleo = creditos.merge(empleo, on='usuario_id')\n",
    "promedio_credito = creditos_empleo.groupby('tipo_empleo')['monto'].mean().reset_index()\n",
    "\n",
    "sns.barplot(data=promedio_credito, x='tipo_empleo', y='monto', palette='Set2')\n",
    "plt.title(\"Promedio de Monto de Crédito por Tipo de Empleo\")\n",
    "plt.xticks(rotation=45)\n",
    "plt.ylabel(\"Promedio de Monto\")\n",
    "plt.show()\n"
   ]
  },
  {
   "cell_type": "code",
   "execution_count": null,
   "id": "810d3299",
   "metadata": {},
   "outputs": [],
   "source": [
    "#monedas digitales por tipo\n",
    "sns.countplot(data=monedas_digitales, x='tipo_moneda', order=monedas_digitales['tipo_moneda'].value_counts().index)\n",
    "plt.title(\"Cantidad de Monedas Digitales por Tipo\")\n",
    "plt.xticks(rotation=45)\n",
    "plt.show()\n"
   ]
  },
  {
   "cell_type": "code",
   "execution_count": null,
   "id": "876d3b66",
   "metadata": {},
   "outputs": [],
   "source": [
    "#monedas digitales por usuario\n",
    "monedas_por_usuario = monedas_digitales.groupby('usuario_id').size().reset_index(name='cantidad_monedas')\n",
    "plt.figure(figsize=(12, 6))\n",
    "sns.barplot(data=monedas_por_usuario, x='usuario_id', y='cantidad_monedas', palette='viridis')\n",
    "plt.title(\"Cantidad de Monedas Digitales por Usuario\")\n",
    "plt.xlabel(\"ID de Usuario\")\n",
    "plt.ylabel(\"Cantidad de Monedas\")\n",
    "plt.xticks(rotation=90)\n",
    "plt.show()\n"
   ]
  },
  {
   "cell_type": "code",
   "execution_count": null,
   "id": "cc4d2d29",
   "metadata": {},
   "outputs": [],
   "source": [
    "#valor total de criptoactivos por usuario\n",
    "valor_cripto = monedas_digitales.groupby('usuario_id')['valor_usd'].sum().reset_index(name='total_cripto')\n",
    "\n",
    "sns.histplot(valor_cripto['total_cripto'], bins=30, kde=True)\n",
    "plt.title(\"Distribución de Valor Total en Monedas Digitales\")\n",
    "plt.show()\n"
   ]
  },
  {
   "cell_type": "code",
   "execution_count": null,
   "id": "8fda1eee",
   "metadata": {},
   "outputs": [],
   "source": [
    "#Cuentas Bancarias por Usuario\n",
    "\n",
    "cuentas_por_usuario = cuentas_bancarias.groupby('usuario_id').size().reset_index(name='cantidad_cuentas')\n",
    "\n",
    "sns.histplot(cuentas_por_usuario['cantidad_cuentas'], bins=10)\n",
    "plt.title(\"Cantidad de Cuentas Bancarias por Usuario\")\n",
    "plt.show()"
   ]
  },
  {
   "cell_type": "code",
   "execution_count": null,
   "id": "3e786129",
   "metadata": {},
   "outputs": [],
   "source": [
    "#Activos Financieros por Usuario\n",
    "\n",
    "activos_por_usuario = activos_financieros.groupby('usuario_id')['valor_estimado'].sum().reset_index(name='valor_total_activos')\n",
    "\n",
    "sns.histplot(activos_por_usuario['valor_total_activos'], bins=30, kde=True)\n",
    "plt.title(\"Distribución de Valor Total en Activos Financieros\")\n",
    "plt.show()"
   ]
  },
  {
   "cell_type": "code",
   "execution_count": null,
   "id": "3d2ee6e8",
   "metadata": {},
   "outputs": [],
   "source": [
    "#Correlación Financiera\n",
    "\n",
    "df_merged = (\n",
    "    usuarios\n",
    "    .merge(creditos.groupby('usuario_id')['monto'].sum().reset_index(name='monto_total_creditos'), on='usuario_id', how='left')\n",
    "    .merge(activos_por_usuario, on='usuario_id', how='left')\n",
    "    .merge(valor_cripto, on='usuario_id', how='left')\n",
    "    .merge(cuentas_por_usuario, on='usuario_id', how='left')\n",
    ")\n",
    "\n",
    "sns.heatmap(df_merged[['monto_total_creditos', 'valor_total_activos', 'total_cripto', 'cantidad_cuentas']].corr(numeric_only=True), annot=True, cmap='coolwarm')\n",
    "plt.title(\"Correlación entre Variables Financieras\")\n",
    "plt.show()"
   ]
  },
  {
   "cell_type": "code",
   "execution_count": null,
   "id": "35ecc274",
   "metadata": {},
   "outputs": [],
   "source": [
    "#Relación Créditos vs Activos\n",
    "\n",
    "sns.scatterplot(data=df_merged, x='valor_total_activos', y='monto_total_creditos')\n",
    "plt.title(\"Créditos vs Activos Financieros\")\n",
    "plt.xlabel(\"Total de Activos Financieros\")\n",
    "plt.ylabel(\"Total de Créditos\")\n",
    "plt.grid(True)\n",
    "plt.show()"
   ]
  },
  {
   "cell_type": "code",
   "execution_count": null,
   "id": "2a7090c4",
   "metadata": {},
   "outputs": [],
   "source": [
    "# Créditos por Provincia\n",
    "\n",
    "creditos_provincia = creditos.merge(usuarios[['usuario_id', 'provincia']], on='usuario_id')\n",
    "creditos_provincia = creditos_provincia.groupby('provincia').size().reset_index(name='cantidad_creditos')\n",
    "\n",
    "sns.barplot(data=creditos_provincia.sort_values('cantidad_creditos', ascending=False), \n",
    "            x='provincia', y='cantidad_creditos', palette='crest')\n",
    "plt.xticks(rotation=45)\n",
    "plt.title(\"Cantidad de Créditos por Provincia\")\n",
    "plt.ylabel(\"N° Créditos\")\n",
    "plt.xlabel(\"Provincia\")\n",
    "plt.tight_layout()\n",
    "plt.show()"
   ]
  },
  {
   "cell_type": "code",
   "execution_count": null,
   "id": "1ac9db5e",
   "metadata": {},
   "outputs": [],
   "source": [
    "#Créditos por Nacionalidad\n",
    "\n",
    "creditos_nacionalidad = creditos.merge(usuarios[['usuario_id', 'nacionalidad']], on='usuario_id')\n",
    "creditos_nacionalidad = creditos_nacionalidad.groupby('nacionalidad').size().reset_index(name='cantidad_creditos')\n",
    "\n",
    "sns.barplot(data=creditos_nacionalidad.sort_values('cantidad_creditos', ascending=False).head(10),\n",
    "            x='nacionalidad', y='cantidad_creditos', palette='viridis')\n",
    "plt.xticks(rotation=45)\n",
    "plt.title(\"Top 10 Nacionalidades con más Créditos\")\n",
    "plt.tight_layout()\n",
    "plt.show()"
   ]
  },
  {
   "cell_type": "code",
   "execution_count": null,
   "id": "c683ac99",
   "metadata": {},
   "outputs": [],
   "source": [
    "#¿Los morosos tienen más créditos?\n",
    "\n",
    "usuarios_mora = usuarios[['usuario_id', 'moroso']]\n",
    "creditos_mora = creditos.merge(usuarios_mora, on='usuario_id')\n",
    "creditos_mora = creditos_mora.groupby('moroso').size().reset_index(name='cantidad_creditos')\n",
    "\n",
    "sns.barplot(data=creditos_mora, x='moroso', y='cantidad_creditos', palette='flare')\n",
    "plt.title(\"Cantidad de Créditos según si el Usuario es Moroso\")\n",
    "plt.xlabel(\"Moroso (0 = No, 1 = Sí)\")\n",
    "plt.ylabel(\"Cantidad de Créditos\")\n",
    "plt.show()"
   ]
  },
  {
   "cell_type": "code",
   "execution_count": null,
   "id": "c6a3c18a",
   "metadata": {},
   "outputs": [],
   "source": [
    "#Morosidad según Edad\n",
    "\n",
    "usuarios_mora_edad = usuarios[['usuario_id', 'edad', 'moroso']]\n",
    "# Agrupar por rangos de edad\n",
    "usuarios_mora_edad['rango_edad'] = pd.cut(usuarios_mora_edad['edad'], bins=[18, 25, 35, 45, 55, 65, 100],\n",
    "                                          labels=['18–25', '26–35', '36–45', '46–55', '56–65', '65+'])\n",
    "\n",
    "mora_por_edad = usuarios_mora_edad.groupby('rango_edad')['moroso'].mean().reset_index()\n",
    "\n",
    "sns.barplot(data=mora_por_edad, x='rango_edad', y='moroso', palette='magma')\n",
    "plt.title(\"Tasa de Morosidad por Rango de Edad\")\n",
    "plt.ylabel(\"Proporción de Morosos\")\n",
    "plt.xlabel(\"Rango de Edad\")\n",
    "plt.ylim(0, 1)\n",
    "plt.show()"
   ]
  },
  {
   "cell_type": "code",
   "execution_count": null,
   "id": "710c2fa9",
   "metadata": {},
   "outputs": [],
   "source": [
    "#Morosidad según Provincia\n",
    "\n",
    "mora_provincia = usuarios.groupby('provincia')['moroso'].mean().reset_index()\n",
    "\n",
    "sns.barplot(data=mora_provincia.sort_values('moroso', ascending=False), \n",
    "            x='provincia', y='moroso', palette='rocket')\n",
    "plt.xticks(rotation=45)\n",
    "plt.title(\"Tasa de Morosidad por Provincia\")\n",
    "plt.ylabel(\"Proporción de Morosos\")\n",
    "plt.xlabel(\"Provincia\")\n",
    "plt.ylim(0, 1)\n",
    "plt.tight_layout()\n",
    "plt.show()"
   ]
  },
  {
   "cell_type": "code",
   "execution_count": null,
   "id": "0405df66",
   "metadata": {},
   "outputs": [],
   "source": [
    "#Morosidad según Nacionalidad\n",
    "\n",
    "mora_nacionalidad = usuarios.groupby('nacionalidad')['moroso'].mean().reset_index()\n",
    "\n",
    "# Top 10 nacionalidades con más morosidad\n",
    "top_nacionalidad = mora_nacionalidad.sort_values('moroso', ascending=False).head(10)\n",
    "\n",
    "sns.barplot(data=top_nacionalidad, x='nacionalidad', y='moroso', palette='flare')\n",
    "plt.xticks(rotation=45)\n",
    "plt.title(\"Tasa de Morosidad por Nacionalidad (Top 10)\")\n",
    "plt.ylabel(\"Proporción de Morosos\")\n",
    "plt.ylim(0, 1)\n",
    "plt.tight_layout()\n",
    "plt.show()"
   ]
  },
  {
   "cell_type": "code",
   "execution_count": null,
   "id": "dcbdac23",
   "metadata": {},
   "outputs": [],
   "source": [
    "#Morosidad según Estado Civil\n",
    "\n",
    "mora_estado_civil = usuarios.groupby('estado_civil')['moroso'].mean().reset_index()\n",
    "\n",
    "sns.barplot(data=mora_estado_civil.sort_values('moroso', ascending=False),\n",
    "            x='estado_civil', y='moroso', palette='coolwarm')\n",
    "plt.xticks(rotation=45)\n",
    "plt.title(\"Tasa de Morosidad por Estado Civil\")\n",
    "plt.ylabel(\"Proporción de Morosos\")\n",
    "plt.ylim(0, 1)\n",
    "plt.tight_layout()\n",
    "plt.show()"
   ]
  },
  {
   "cell_type": "code",
   "execution_count": null,
   "id": "55075638",
   "metadata": {},
   "outputs": [],
   "source": [
    "#Morosidad según Edad\n",
    "\n",
    "usuarios['rango_edad'] = pd.cut(\n",
    "    usuarios['edad'],\n",
    "    bins=[18, 25, 35, 45, 55, 65, 100],\n",
    "    labels=['18–25', '26–35', '36–45', '46–55', '56–65', '65+']\n",
    ")\n",
    "\n",
    "mora_edad = usuarios.groupby('rango_edad')['moroso'].mean().reset_index()\n",
    "\n",
    "sns.barplot(data=mora_edad, x='rango_edad', y='moroso', palette='magma')\n",
    "plt.title(\"Tasa de Morosidad por Rango de Edad\")\n",
    "plt.ylabel(\"Proporción de Morosos\")\n",
    "plt.ylim(0, 1)\n",
    "plt.show()"
   ]
  },
  {
   "cell_type": "code",
   "execution_count": null,
   "id": "241904ad",
   "metadata": {},
   "outputs": [],
   "source": [
    "#Morosidad según Ingresos\n",
    "\n",
    "Si tienes la tabla empleo con ingresos, puedes hacer:\n",
    "\n",
    "usuarios_empleo = usuarios.merge(empleo[['usuario_id', 'ingresos']], on='usuario_id')\n",
    "\n",
    "sns.boxplot(data=usuarios_empleo, x='moroso', y='ingresos', palette='Set3')\n",
    "plt.title(\"Distribución de Ingresos según Morosidad\")\n",
    "plt.xticks([0, 1], ['No Moroso', 'Moroso'])\n",
    "plt.ylabel(\"Ingresos\")\n",
    "plt.show()"
   ]
  },
  {
   "cell_type": "code",
   "execution_count": null,
   "id": "28ac7bdc",
   "metadata": {},
   "outputs": [],
   "source": [
    "#Morosidad por Tipo de Empleo\n",
    "\n",
    "usuarios_empleo = usuarios.merge(empleo[['usuario_id', 'tipo_empleo']], on='usuario_id')\n",
    "\n",
    "mora_empleo = usuarios_empleo.groupby('tipo_empleo')['moroso'].mean().reset_index()\n",
    "\n",
    "sns.barplot(data=mora_empleo.sort_values('moroso', ascending=False),\n",
    "            x='tipo_empleo', y='moroso', palette='cubehelix')\n",
    "plt.xticks(rotation=45)\n",
    "plt.title(\"Tasa de Morosidad por Tipo de Empleo\")\n",
    "plt.ylim(0, 1)\n",
    "plt.tight_layout()\n",
    "plt.show()"
   ]
  },
  {
   "cell_type": "code",
   "execution_count": null,
   "id": "e86aafb8",
   "metadata": {},
   "outputs": [],
   "source": [
    "#Créditos y Morosidad combinados\n",
    "\n",
    "#¿Tienen más créditos los morosos?\n",
    "\n",
    "creditos_usuario = creditos.groupby('usuario_id').size().reset_index(name='cantidad_creditos')\n",
    "usuarios_creditos = usuarios.merge(creditos_usuario, on='usuario_id', how='left')\n",
    "usuarios_creditos['cantidad_creditos'] = usuarios_creditos['cantidad_creditos'].fillna(0)\n",
    "\n",
    "sns.boxplot(data=usuarios_creditos, x='moroso', y='cantidad_creditos', palette='Set2')\n",
    "plt.title(\"Cantidad de Créditos según Morosidad\")\n",
    "plt.xticks([0, 1], ['No Moroso', 'Moroso'])\n",
    "plt.ylabel(\"N° Créditos\")\n",
    "plt.show()"
   ]
  },
  {
   "cell_type": "code",
   "execution_count": null,
   "id": "f0d7beaf",
   "metadata": {},
   "outputs": [],
   "source": [
    "#Distribución de Edad según Morosidad (Densidad)\n",
    "\n",
    "sns.kdeplot(data=usuarios, x='edad', hue='moroso', common_norm=False, fill=True, palette='coolwarm')\n",
    "plt.title(\"Distribución de Edad según Morosidad\")\n",
    "plt.xlabel(\"Edad\")\n",
    "plt.ylabel(\"Densidad\")\n",
    "plt.show()"
   ]
  },
  {
   "cell_type": "code",
   "execution_count": null,
   "id": "6fcf5d5c",
   "metadata": {},
   "outputs": [],
   "source": [
    "#Heatmap cruzado: Morosidad por Provincia y Estado Civil\n",
    "\n",
    "pivot = usuarios.pivot_table(index='provincia', columns='estado_civil', values='moroso', aggfunc='mean')\n",
    "\n",
    "sns.heatmap(pivot, annot=True, fmt=\".2f\", cmap='YlOrRd')\n",
    "plt.title(\"Morosidad Promedio por Provincia y Estado Civil\")\n",
    "plt.ylabel(\"Provincia\")\n",
    "plt.xlabel(\"Estado Civil\")\n",
    "plt.tight_layout()\n",
    "plt.show()"
   ]
  },
  {
   "cell_type": "code",
   "execution_count": null,
   "id": "cf97b0d8",
   "metadata": {},
   "outputs": [],
   "source": [
    "#Preparación de datos combinados\n",
    "\n",
    "# Unir usuarios con empleo, creditos y activos\n",
    "df = usuarios.merge(empleo[['usuario_id', 'ingresos', 'tipo_empleo']], on='usuario_id', how='left')\n",
    "df = df.merge(creditos.groupby('usuario_id').size().reset_index(name='cantidad_creditos'), on='usuario_id', how='left')\n",
    "df = df.merge(activos_financieros[['usuario_id', 'valor_activos']], on='usuario_id', how='left')\n",
    "\n",
    "df['cantidad_creditos'] = df['cantidad_creditos'].fillna(0)\n",
    "df['valor_activos'] = df['valor_activos'].fillna(0)"
   ]
  },
  {
   "cell_type": "code",
   "execution_count": null,
   "id": "eeb8eadd",
   "metadata": {},
   "outputs": [],
   "source": [
    "#Preprocesamiento\n",
    "\n",
    "# Variables categóricas a codificar\n",
    "cat_vars = ['provincia', 'estado_civil', 'tipo_empleo', 'nacionalidad']\n",
    "df[cat_vars] = df[cat_vars].fillna(\"Desconocido\")\n",
    "\n",
    "# Codificar etiquetas\n",
    "for col in cat_vars:\n",
    "    le = LabelEncoder()\n",
    "    df[col] = le.fit_transform(df[col])\n",
    "\n",
    "# Escalamiento\n",
    "features = ['edad', 'ingresos', 'provincia', 'estado_civil', 'tipo_empleo', 'cantidad_creditos', 'valor_activos']\n",
    "X_scaled = StandardScaler().fit_transform(df[features])"
   ]
  },
  {
   "cell_type": "code",
   "execution_count": null,
   "id": "028740e5",
   "metadata": {},
   "outputs": [],
   "source": [
    "#Clustering (por ejemplo, KMeans)\n",
    "\n",
    "kmeans = KMeans(n_clusters=4, random_state=42)\n",
    "df['cluster_riesgo'] = kmeans.fit_predict(X_scaled)\n",
    "\n",
    "sns.countplot(x='cluster_riesgo', data=df, palette='tab10')\n",
    "plt.title(\"Distribución de Usuarios por Clúster de Riesgo\")\n",
    "plt.show()\n",
    "\n",
    "# Perfil de clusters\n",
    "df.groupby('cluster_riesgo')[features].mean()"
   ]
  },
  {
   "cell_type": "code",
   "execution_count": null,
   "id": "fa91968e",
   "metadata": {},
   "outputs": [],
   "source": [
    "# Etiqueta\n",
    "y = df['moroso']\n",
    "X = df[features]\n",
    "\n",
    "# División train/test\n",
    "X_train, X_test, y_train, y_test = train_test_split(X, y, test_size=0.3, random_state=42)\n",
    "\n",
    "# Modelo: Random Forest\n",
    "clf = RandomForestClassifier(n_estimators=100, random_state=42)\n",
    "clf.fit(X_train, y_train)\n",
    "\n",
    "# Evaluación\n",
    "y_pred = clf.predict(X_test)\n",
    "\n",
    "print(classification_report(y_test, y_pred))\n",
    "sns.heatmap(confusion_matrix(y_test, y_pred), annot=True, fmt='d')\n",
    "plt.title(\"Matriz de Confusión\")\n",
    "plt.xlabel(\"Predicho\")\n",
    "plt.ylabel(\"Real\")\n",
    "plt.show()\n"
   ]
  },
  {
   "cell_type": "code",
   "execution_count": null,
   "id": "8186ee8b",
   "metadata": {},
   "outputs": [],
   "source": [
    "importances = pd.Series(clf.feature_importances_, index=features).sort_values(ascending=False)\n",
    "importances.plot(kind='barh', title='Importancia de las Variables')\n",
    "plt.show()\n"
   ]
  },
  {
   "cell_type": "code",
   "execution_count": null,
   "id": "84f3f5f0",
   "metadata": {},
   "outputs": [],
   "source": [
    "#Validación cruzada\n",
    "\n",
    "from sklearn.model_selection import cross_val_score\n",
    "\n",
    "# Validación cruzada (5 folds)\n",
    "scores = cross_val_score(clf, X, y, cv=5, scoring='accuracy')\n",
    "print(f\"Accuracy promedio con validación cruzada: {scores.mean():.4f}\")"
   ]
  },
  {
   "cell_type": "code",
   "execution_count": null,
   "id": "7d9aecf0",
   "metadata": {},
   "outputs": [],
   "source": [
    "#Búsqueda de hiperparámetros con GridSearchCV\n",
    "\n",
    "from sklearn.model_selection import GridSearchCV\n",
    "\n",
    "param_grid = {\n",
    "    'n_estimators': [100, 200],\n",
    "    'max_depth': [None, 10, 20],\n",
    "    'min_samples_split': [2, 5],\n",
    "    'min_samples_leaf': [1, 2]\n",
    "}\n",
    "\n",
    "grid = GridSearchCV(RandomForestClassifier(random_state=42), param_grid, cv=3, scoring='roc_auc', n_jobs=-1)\n",
    "grid.fit(X_train, y_train)\n",
    "\n",
    "print(\"Mejores parámetros:\", grid.best_params_)\n",
    "\n",
    "# Evaluar con mejores parámetros\n",
    "best_model = grid.best_estimator_\n",
    "y_pred_best = best_model.predict(X_test)"
   ]
  },
  {
   "cell_type": "code",
   "execution_count": null,
   "id": "4bdf7f03",
   "metadata": {},
   "outputs": [],
   "source": [
    "#ROC Curve y AUC\n",
    "\n",
    "from sklearn.metrics import roc_curve, auc\n",
    "\n",
    "# Probabilidades\n",
    "y_scores = best_model.predict_proba(X_test)[:, 1]\n",
    "\n",
    "# Curva ROC\n",
    "fpr, tpr, _ = roc_curve(y_test, y_scores)\n",
    "roc_auc = auc(fpr, tpr)\n",
    "\n",
    "plt.figure(figsize=(8, 6))\n",
    "plt.plot(fpr, tpr, label=f'ROC Curve (AUC = {roc_auc:.2f})', color='darkorange')\n",
    "plt.plot([0, 1], [0, 1], 'k--', label='Random')\n",
    "plt.xlabel('Falso Positivo')\n",
    "plt.ylabel('Verdadero Positivo')\n",
    "plt.title('Curva ROC')\n",
    "plt.legend(loc='lower right')\n",
    "plt.grid(True)\n",
    "plt.show()"
   ]
  },
  {
   "cell_type": "code",
   "execution_count": null,
   "id": "e0deab58",
   "metadata": {},
   "outputs": [],
   "source": [
    "#usuarios con más de 3 créditos\n",
    "usuarios_mas_creditos = usuarios[usuarios['usuario_id'].isin(creditos_por_usuario[creditos_por_usuario['cantidad_creditos'] > 3]['usuario_id'])]\n",
    "usuarios_mas_creditos[['usuario_id', 'nombre', 'apellido', 'cantidad_creditos']].sort_values(by='cantidad_creditos', ascending=False).head(10)\n"
   ]
  },
  {
   "cell_type": "code",
   "execution_count": null,
   "id": "8aed8d5d",
   "metadata": {},
   "outputs": [],
   "source": [
    "#usuarios por provincia\n",
    "usuarios_provincia = usuarios.groupby('provincia').size().reset_index(name='cantidad_usuarios')\n",
    "sns.barplot(data=usuarios_provincia.sort_values('cantidad_usuarios', ascending=False), \n",
    "            x='provincia', y='cantidad_usuarios', palette='viridis')\n",
    "plt.title(\"Cantidad de Usuarios por Provincia\")\n",
    "plt.xlabel(\"Provincia\")\n",
    "plt.ylabel(\"Cantidad de Usuarios\")\n",
    "plt.show()\n"
   ]
  },
  {
   "cell_type": "code",
   "execution_count": null,
   "id": "8a095326",
   "metadata": {},
   "outputs": [],
   "source": [
    "#usuario si es moroso o no\n",
    "usuarios['moroso'] = usuarios['moroso'].astype(int)  # Asegurarse de que es int\n",
    "sns.countplot(data=usuarios, x='moroso', palette='Set1')\n"
   ]
  },
  {
   "cell_type": "code",
   "execution_count": null,
   "id": "c3c0d9ea",
   "metadata": {},
   "outputs": [],
   "source": [
    "#usuario por nacionalidad\n",
    "usuarios_nacionalidad = usuarios.groupby('nacionalidad').size().reset_index(name='cantidad_usuarios')\n",
    "sns.barplot(data=usuarios_nacionalidad.sort_values('cantidad_usuarios', ascending=False).head(10),\n",
    "            x='nacionalidad', y='cantidad_usuarios', palette='viridis')\n",
    "plt.title(\"Top 10 Nacionalidades con más Usuarios\")\n",
    "plt.xticks(rotation=45)\n",
    "plt.show()"
   ]
  },
  {
   "cell_type": "code",
   "execution_count": null,
   "id": "53c4112e",
   "metadata": {},
   "outputs": [],
   "source": [
    "#cantidad de usuarios por provincia\n",
    "usuarios_provincia = usuarios.groupby('provincia').size().reset_index(name='cantidad_usuarios')\n",
    "sns.barplot(data=usuarios_provincia.sort_values('cantidad_usuarios', ascending=False),\n",
    "\n",
    "            x='provincia', y='cantidad_usuarios', palette='viridis')\n",
    "plt.title(\"Cantidad de Usuarios por Provincia\")\n",
    "plt.xlabel(\"Provincia\")\n",
    "plt.ylabel(\"Cantidad de Usuarios\")\n",
    "plt.show()\n"
   ]
  },
  {
   "cell_type": "code",
   "execution_count": null,
   "id": "96377d04",
   "metadata": {},
   "outputs": [],
   "source": [
    "#cantidad de monedas digitales por usuario\n",
    "monedas_por_usuario = monedas_digitales.groupby('usuario_id').size().reset_index(name='cantidad_monedas')\n",
    "sns.barplot(data=monedas_por_usuario, x='usuario_id', y='cantidad_monedas', palette='viridis')\n",
    "plt.title(\"Cantidad de Monedas Digitales por Usuario\")\n",
    "plt.xlabel(\"ID de Usuario\")\n",
    "plt.ylabel(\"Cantidad de Monedas\")\n",
    "plt.show()"
   ]
  },
  {
   "cell_type": "code",
   "execution_count": null,
   "id": "91a0cd7f",
   "metadata": {},
   "outputs": [],
   "source": [
    "#antiguedad de monedas digitales por usuario\n",
    "monedas_antiguedad = monedas_digitales.groupby('usuario_id')['fecha_creacion'].min().reset_index()\n",
    "monedas_antiguedad['antiguedad'] = (pd.to_datetime('today') - monedas_antiguedad['fecha_creacion']).dt.days\n",
    "sns.histplot(monedas_antiguedad['antiguedad'], bins=30, kde=True)\n",
    "plt.title(\"Antigüedad de Monedas Digitales por Usuario\")\n",
    "plt.xlabel(\"Días desde Creación\")\n",
    "plt.ylabel(\"Frecuencia\")\n",
    "plt.show()"
   ]
  },
  {
   "cell_type": "code",
   "execution_count": null,
   "id": "53feb957",
   "metadata": {},
   "outputs": [],
   "source": [
    "#cantidad de monedas digitales por usuario\n",
    "monedas_por_usuario = monedas_digitales.groupby('usuario_id').size().reset_index(name='cantidad_monedas')\n",
    "sns.barplot(data=monedas_por_usuario, x='usuario_id', y='cantidad_monedas', palette='viridis')\n",
    "plt.title(\"Cantidad de Monedas Digitales por Usuario\")\n",
    "plt.xlabel(\"ID de Usuario\")\n",
    "plt.ylabel(\"Cantidad de Monedas\")\n",
    "plt.show()"
   ]
  },
  {
   "cell_type": "code",
   "execution_count": null,
   "id": "1f05d330",
   "metadata": {},
   "outputs": [],
   "source": [
    "#antiguedad de empleos por usuario\n",
    "empleos_antiguedad = empleos.groupby('usuario_id')['fecha_inicio'].min().reset_index()\n",
    "empleos_antiguedad['antiguedad'] = (pd.to_datetime('today') - empleos_antiguedad['fecha_inicio']).dt.days\n",
    "sns.histplot(empleos_antiguedad['antiguedad'], bins=30, kde=True)\n",
    "plt.title(\"Antigüedad de Empleos por Usuario\")\n",
    "plt.xlabel(\"Días desde Inicio\")\n",
    "plt.ylabel(\"Frecuencia\")\n",
    "plt.show()"
   ]
  },
  {
   "cell_type": "code",
   "execution_count": null,
   "id": "4ccf7a4d",
   "metadata": {},
   "outputs": [],
   "source": [
    "#empleos mas antiguedad mayor creditos de usuarios\n",
    "empleos_antiguedad_creditos = empleos.groupby('usuario_id').agg({'fecha_inicio': 'min', 'usuario_id': 'count'}).reset_index()\n",
    "empleos_antiguedad_creditos.columns = ['usuario_id', 'fecha_inicio', 'cantidad_creditos']\n",
    "empleos_antiguedad_creditos['antiguedad'] = (pd.to_datetime('today') - empleos_antiguedad_creditos['fecha_inicio']).dt.days\n"
   ]
  },
  {
   "cell_type": "code",
   "execution_count": null,
   "id": "97c77ccb",
   "metadata": {},
   "outputs": [],
   "source": [
    "#mayor antiguedad en emplos mas activos\n",
    "empleos_mas_activos = empleos.groupby('usuario_id').size().reset_index(name='cantidad_empleos')\n",
    "empleos_mas_activos = empleos_mas_activos.sort_values('cantidad_empleos', ascending=False).head(20)\n",
    "sns.barplot(data=empleos_mas_activos, x='usuario_id', y='cantidad_empleos', palette='viridis')\n",
    "plt.title(\"Top 20 Usuarios con más Empleos Activos\")\n",
    "plt.xlabel(\"ID de Usuario\")\n",
    "plt.show()"
   ]
  },
  {
   "cell_type": "code",
   "execution_count": null,
   "id": "63705763",
   "metadata": {},
   "outputs": [],
   "source": [
    "#mayor antiguedad mas activos financieros\n",
    "activos_mas_activos = activos_financieros.groupby('usuario_id').size().reset_index(name='cantidad_activos')\n",
    "activos_mas_activos = activos_mas_activos.sort_values('cantidad_activos', ascending=False).head(20)\n",
    "sns.barplot(data=activos_mas_activos, x='usuario_id', y='cantidad_activos', palette='viridis')\n",
    "plt.title(\"Top 20 Usuarios con más Activos Financieros\")\n",
    "plt.xlabel(\"ID de Usuario\")\n",
    "plt.show()"
   ]
  },
  {
   "cell_type": "code",
   "execution_count": null,
   "id": "ec5e1169",
   "metadata": {},
   "outputs": [],
   "source": [
    "#mayor antiguedad en el empleo mayor cantidad de creditos\n",
    "empleos_creditos = empleos.merge(creditos, on='usuario_id', how='left')\n",
    "empleos_creditos = empleos_creditos.groupby('usuario_id').agg({'fecha_inicio': 'min', 'usuario_id': 'count'}).reset_index()\n",
    "empleos_creditos.columns = ['usuario_id', 'fecha_inicio', 'cantidad_creditos']\n",
    "empleos_creditos['antiguedad'] = (pd.to_datetime('today') - empleos_creditos['fecha_inicio']).dt.days\n",
    "sns.scatterplot(data=empleos_creditos, x='antiguedad', y='cantidad_creditos', color='blue')\n",
    "plt.title(\"Antigüedad del Empleo vs Cantidad de Créditos\")\n",
    "plt.xlabel(\"Antigüedad (días)\")\n",
    "plt.ylabel(\"Cantidad de Créditos\")\n",
    "plt.show()\n"
   ]
  },
  {
   "cell_type": "code",
   "execution_count": null,
   "id": "8ae453fc",
   "metadata": {},
   "outputs": [],
   "source": [
    "#mayor antiguedad en el empleo mayor cantidad de activos financieros\n",
    "empleos_activos = empleos.merge(activos_financieros, on='usuario_id', how='left')\n",
    "empleos_activos = empleos_activos.groupby('usuario_id').agg({'fecha_inicio': 'min', 'valor_estimado': 'sum'}).reset_index()\n",
    "empleos_activos.columns = ['usuario_id', 'fecha_inicio', 'valor_total_activos']\n",
    "empleos_activos['antiguedad'] = (pd.to_datetime('today') - empleos_activos['fecha_inicio']).dt.days\n",
    "sns.scatterplot(data=empleos_activos, x='antiguedad', y='valor_total_activos', color='green')\n",
    "plt.title(\"Antigüedad del Empleo vs Valor Total de Activos Financieros\")\n",
    "plt.xlabel(\"Antigüedad (días)\")\n",
    "plt.ylabel(\"Valor Total de Activos Financieros\")\n",
    "plt.show()"
   ]
  },
  {
   "cell_type": "code",
   "execution_count": null,
   "id": "d0431f98",
   "metadata": {},
   "outputs": [],
   "source": [
    "# usuarios mas jovenes mas modenas digitales\n",
    "usuarios_jovenes_monedas = usuarios[usuarios['edad'] < 30]\n",
    "monedas_jovenes = monedas_digitales[monedas_digitales['usuario_id'].isin(usuarios_jovenes_monedas['usuario_id'])]\n",
    "monedas_jovenes_por_usuario = monedas_jovenes.groupby('usuario_id').size().reset_index(name='cantidad_monedas')\n",
    "sns.barplot(data=monedas_jovenes_por_usuario, x='usuario_id', y='cantidad_monedas', palette='viridis')\n",
    "plt.title(\"Cantidad de Monedas Digitales por Usuarios Jóvenes (<30 años)\")\n",
    "plt.xlabel(\"ID de Usuario\")\n",
    "plt.ylabel(\"Cantidad de Monedas\")\n",
    "plt.show()\n"
   ]
  },
  {
   "cell_type": "code",
   "execution_count": null,
   "id": "71de5063",
   "metadata": {},
   "outputs": [],
   "source": [
    "#edad media creditos por provincia\n",
    "edad_creditos_provincia = creditos.merge(usuarios[['usuario_id', 'edad', 'provincia']], on='usuario_id', how='left')\n",
    "edad_creditos_provincia = edad_creditos_provincia.groupby('provincia')['edad'].mean().reset_index()\n",
    "sns.barplot(data=edad_creditos_provincia.sort_values('edad', ascending=False), \n",
    "            x='provincia', y='edad', palette='viridis')\n",
    "plt.title(\"Edad Media de Usuarios con Créditos por Provincia\")\n",
    "plt.xlabel(\"Provincia\")\n",
    "plt.ylabel(\"Edad Media\")\n",
    "plt.show()\n"
   ]
  },
  {
   "cell_type": "code",
   "execution_count": null,
   "id": "5f0774f8",
   "metadata": {},
   "outputs": [],
   "source": [
    "#edad media creditos por nacionalidad\n",
    "edad_creditos_nacionalidad = creditos.merge(usuarios[['usuario_id', 'edad', 'nacionalidad']], on='usuario_id', how='left')\n",
    "edad_creditos_nacionalidad = edad_creditos_nacionalidad.groupby('nacionalidad')['edad'].mean().reset_index()\n",
    "sns.barplot(data=edad_creditos_nacionalidad.sort_values('edad', ascending=False).head(10),\n",
    "            x='nacionalidad', y='edad', palette='viridis')\n",
    "plt.title(\"Edad Media de Usuarios con Créditos por Nacionalidad (Top 10)\")\n",
    "plt.xlabel(\"Nacionalidad\")\n",
    "plt.ylabel(\"Edad Media\")\n",
    "plt.xticks(rotation=45)\n",
    "plt.show()"
   ]
  },
  {
   "cell_type": "code",
   "execution_count": null,
   "id": "4c6d7322",
   "metadata": {},
   "outputs": [],
   "source": [
    "#edad media creditos, monedas digitales y activos financieros por provincia\n",
    "edad_creditos_monedas_activos_provincia = (\n",
    "    creditos.merge(usuarios[['usuario_id', 'edad', 'provincia']], on='usuario_id', how='left')\n",
    "    .merge(monedas_digitales[['usuario_id', 'valor_usd']], on='usuario_id', how='left')\n",
    "    .merge(activos_financieros[['usuario_id', 'valor_estimado']], on='usuario_id', how='left')\n",
    ")\n",
    "edad_creditos_monedas_activos_provincia = edad_creditos_monedas_activos_provincia.groupby('provincia').agg({\n",
    "    'edad': 'mean',\n",
    "    'valor_usd': 'sum',\n",
    "    'valor_estimado': 'sum'\n",
    "}).reset_index()\n",
    "sns.barplot(data=edad_creditos_monedas_activos_provincia.sort_values('edad', ascending=False), \n",
    "            x='provincia', y='edad', palette='viridis')\n",
    "plt.title(\"Edad Media, Valor Total de Monedas Digitales y Activos Financieros por Provincia\")\n",
    "plt.xlabel(\"Provincia\")\n",
    "plt.ylabel(\"Edad Media\")\n",
    "plt.show()"
   ]
  },
  {
   "cell_type": "code",
   "execution_count": null,
   "id": "4913beaa",
   "metadata": {},
   "outputs": [],
   "source": [
    "#edad media creditos, monedas digitales y activos financieros por nacionalidad\n",
    "edad_creditos_monedas_activos_nacionalidad = (\n",
    "    creditos.merge(usuarios[['usuario_id', 'edad', 'nacionalidad']], on='usuario_id', how='left')\n",
    "    .merge(monedas_digitales[['usuario_id', 'valor_usd']], on='usuario_id', how='left')\n",
    "    .merge(activos_financieros[['usuario_id', 'valor_estimado']], on='usuario_id', how='left')\n",
    ")\n",
    "edad_creditos_monedas_activos_nacionalidad = edad_creditos_monedas_activos_nacionalidad.groupby('nacionalidad').agg({\n",
    "    'edad': 'mean',\n",
    "    'valor_usd': 'sum',\n",
    "    'valor_estimado': 'sum'\n",
    "}).reset_index()\n",
    "sns.barplot(data=edad_creditos_monedas_activos_nacionalidad.sort_values('edad', ascending=False).head(10),\n",
    "            x='nacionalidad', y='edad', palette='viridis')\n",
    "plt.title(\"Edad Media, Valor Total de Monedas Digitales y Activos Financieros por Nacionalidad (Top 10)\")\n",
    "plt.xlabel(\"Nacionalidad\")\n",
    "plt.ylabel(\"Edad Media\")\n",
    "plt.xticks(rotation=45)\n",
    "plt.show()"
   ]
  },
  {
   "cell_type": "code",
   "execution_count": null,
   "id": "df415b69",
   "metadata": {},
   "outputs": [],
   "source": [
    "#edad media creditos, monedas digitales y activos financieros\n",
    "edad_creditos_monedas_activos_nacionalidad = (\n",
    "    creditos.merge(usuarios[['usuario_id', 'edad']], on='usuario_id', how='left')\n",
    "    .merge(monedas_digitales[['usuario_id', 'valor_usd']], on='usuario_id', how='left')\n",
    "    .merge(activos_financieros[['usuario_id', 'valor_estimado']], on='usuario_id', how='left')\n",
    ")\n",
    "edad_creditos_monedas_activos_nacionalidad = edad_creditos_monedas_activos_nacionalidad.groupby('Usuarios').agg({\n",
    "    'edad': 'mean',\n",
    "    'valor_usd': 'sum',\n",
    "    'valor_estimado': 'sum'\n",
    "}).reset_index()\n",
    "sns.barplot(data=edad_creditos_monedas_activos_nacionalidad.sort_values('edad', ascending=False).head(10),\n",
    "            x='usuario', y='edad', palette='viridis')\n",
    "plt.title(\"Edad Media, Valor Total de Monedas Digitales y Activos Financieros (Top 10)\")\n",
    "plt.xlabel(\"Usuarios\")\n",
    "plt.ylabel(\"Edad Media\")\n",
    "plt.xticks(rotation=45)\n",
    "plt.show()"
   ]
  },
  {
   "cell_type": "code",
   "execution_count": null,
   "id": "93a4d912",
   "metadata": {},
   "outputs": [],
   "source": [
    "#tipos de cuentas bancarias por edad\n",
    "cuentas_bancarias['fecha_apertura'] = pd.to_datetime(cuentas_bancarias['fecha_apertura'])\n",
    "cuentas_bancarias['antiguedad'] = (pd.to_datetime('today') - cuentas_bancarias['fecha_apertura']).dt.days\n",
    "sns.boxplot(data=cuentas_bancarias, x='tipo_cuenta', y='antiguedad', palette='Set2')\n",
    "plt.title(\"Antigüedad de Cuentas Bancarias por Tipo de Cuenta\")\n",
    "plt.xlabel(\"Tipo de Cuenta\")\n",
    "plt.ylabel(\"Antigüedad (días)\")\n",
    "plt.xticks(rotation=45)\n",
    "plt.show()"
   ]
  },
  {
   "cell_type": "code",
   "execution_count": null,
   "id": "4dfdc24d",
   "metadata": {},
   "outputs": [],
   "source": [
    "#tipo de cuentas bancarias por provincia\n",
    "cuentas_provincia = cuentas_bancarias.merge(usuarios[['usuario_id', 'provincia']], on='usuario_id', how='left')\n",
    "cuentas_provincia = cuentas_provincia.groupby(['provincia', 'tipo_cuenta']).size().reset_index(name='cantidad_cuentas')\n",
    "plt.figure(figsize=(12, 6))\n",
    "sns.barplot(data=cuentas_provincia, x='provincia', y='cantidad_cuentas', hue='tipo_cuenta', palette='viridis')\n",
    "plt.title(\"Cantidad de Cuentas Bancarias por Provincia y Tipo de Cuenta\")\n",
    "plt.xlabel(\"Provincia\")\n",
    "plt.ylabel(\"Cantidad de Cuentas\")\n",
    "plt.xticks(rotation=45)\n",
    "plt.legend(title='Tipo de Cuenta')\n",
    "plt.tight_layout()\n",
    "plt.show()"
   ]
  },
  {
   "cell_type": "code",
   "execution_count": null,
   "id": "c742080c",
   "metadata": {},
   "outputs": [],
   "source": [
    "#tipo de cuentas bancarias por nacionalidad\n",
    "cuentas_nacionalidad = cuentas_bancarias.merge(usuarios[['usuario_id', 'nacionalidad']], on='usuario_id', how='left')\n",
    "cuentas_nacionalidad = cuentas_nacionalidad.groupby(['nacionalidad', 'tipo_cuenta']).size().reset_index(name='cantidad_cuentas')\n",
    "plt.figure(figsize=(12, 6))\n",
    "sns.barplot(data=cuentas_nacionalidad, x='nacionalidad', y='cantidad_cuentas', hue='tipo_cuenta', palette='viridis')\n",
    "plt.title(\"Cantidad de Cuentas Bancarias por Nacionalidad y Tipo de Cuenta\")\n",
    "plt.xlabel(\"Nacionalidad\")\n",
    "plt.ylabel(\"Cantidad de Cuentas\")\n",
    "plt.xticks(rotation=45)\n",
    "plt.legend(title='Tipo de Cuenta')\n",
    "plt.tight_layout()\n",
    "plt.show()"
   ]
  },
  {
   "cell_type": "code",
   "execution_count": null,
   "id": "0022182a",
   "metadata": {},
   "outputs": [],
   "source": [
    "#tipos de activos financieros por nacionalidad\n",
    "activos_nacionalidad = activos_financieros.merge(usuarios[['usuario_id', 'nacionalidad']], on='usuario_id', how='left')\n",
    "activos_nacionalidad = activos_nacionalidad.groupby(['nacionalidad', 'tipo_activo']).size().reset_index(name='cantidad_activos')\n",
    "plt.figure(figsize=(12, 6))\n",
    "sns.barplot(data=activos_nacionalidad, x='nacionalidad', y='cantidad_activos', hue='tipo_activo', palette='viridis')\n",
    "plt.title(\"Cantidad de Activos Financieros por Nacionalidad y Tipo de Activo\")\n",
    "plt.xlabel(\"Nacionalidad\")\n",
    "plt.ylabel(\"Cantidad de Activos\")\n",
    "plt.xticks(rotation=45)\n",
    "plt.legend(title='Tipo de Activo')\n",
    "plt.tight_layout()\n",
    "plt.show()"
   ]
  },
  {
   "cell_type": "code",
   "execution_count": null,
   "id": "156c62b4",
   "metadata": {},
   "outputs": [],
   "source": [
    "#tipo de activos financieros por edad\n",
    "activos_edad = activos_financieros.merge(usuarios[['usuario_id', 'edad']], on='usuario_id', how='left')\n",
    "activos_edad = activos_edad.groupby(['edad', 'tipo_activo']).size().reset_index(name='cantidad_activos')\n",
    "plt.figure(figsize=(12, 6))\n",
    "sns.barplot(data=activos_edad, x='edad', y='cantidad_activos', hue='tipo_activo', palette='viridis')\n",
    "plt.title(\"Cantidad de Activos Financieros por Edad y Tipo de Activo\")\n",
    "plt.xlabel(\"Edad\")\n",
    "plt.ylabel(\"Cantidad de Activos\")\n",
    "plt.xticks(rotation=45)\n",
    "plt.legend(title='Tipo de Activo')\n",
    "plt.tight_layout()\n",
    "plt.show()"
   ]
  },
  {
   "cell_type": "code",
   "execution_count": null,
   "id": "852e4ea5",
   "metadata": {},
   "outputs": [],
   "source": [
    "#tipo de creditos por edad\n",
    "creditos_edad = creditos.merge(usuarios[['usuario_id', 'edad']], on='usuario_id', how='left')\n",
    "creditos_edad = creditos_edad.groupby(['edad', 'tipo_credito']).size().reset_index(name='cantidad_creditos')\n",
    "plt.figure(figsize=(12, 6))\n",
    "sns.barplot(data=creditos_edad, x='edad', y='cantidad_creditos', hue='tipo_credito', palette='viridis')\n",
    "plt.title(\"Cantidad de Créditos por Edad y Tipo de Crédito\")\n",
    "plt.xlabel(\"Edad\")\n",
    "plt.ylabel(\"Cantidad de Créditos\")\n",
    "plt.xticks(rotation=45)\n",
    "plt.legend(title='Tipo de Crédito')\n",
    "plt.tight_layout()\n",
    "plt.show()"
   ]
  },
  {
   "cell_type": "code",
   "execution_count": null,
   "id": "71f55e14",
   "metadata": {},
   "outputs": [],
   "source": [
    "#tipos de cuentas bancarias por provincia\n",
    "cuentas_bancarias_provincia = cuentas_bancarias.groupby('provincia')['tipo_cuenta'].value_counts().unstack().fillna(0)\n",
    "cuentas_bancarias_provincia.plot(kind='bar', stacked=True, figsize=(12, 6), colormap='viridis')\n",
    "plt.title(\"Cantidad de Cuentas Bancarias por Provincia y Tipo de Cuenta\")\n",
    "plt.xlabel(\"Provincia\")\n",
    "plt.ylabel(\"Cantidad de Cuentas\")\n",
    "plt.xticks(rotation=45)\n",
    "plt.legend(title='Tipo de Cuenta')\n",
    "plt.tight_layout()\n",
    "plt.show()"
   ]
  },
  {
   "cell_type": "code",
   "execution_count": null,
   "id": "8e2809bb",
   "metadata": {},
   "outputs": [],
   "source": [
    "#estado de los creditos\n",
    "creditos_estado = creditos.groupby('estado')['usuario_id'].count().reset_index()\n",
    "sns.barplot(data=creditos_estado, x='estado', y='usuario_id', palette='viridis')\n",
    "plt.title(\"Cantidad de Créditos por Estado\")\n",
    "plt.xlabel(\"Estado del Crédito\")\n",
    "plt.ylabel(\"Cantidad de Créditos\")\n",
    "plt.xticks(rotation=45)\n",
    "plt.tight_layout()\n",
    "plt.show()"
   ]
  },
  {
   "cell_type": "code",
   "execution_count": null,
   "id": "15a00c68",
   "metadata": {},
   "outputs": [],
   "source": [
    "#mapa de calor de créditos por provincia y estado\n",
    "creditos_provincia_estado = creditos.merge(usuarios[['usuario_id', 'provincia']], on='usuario_id', how='left')\n",
    "creditos_provincia_estado = creditos_provincia_estado.groupby(['provincia', 'estado']).size().unstack().fillna(0)\n",
    "plt.figure(figsize=(12, 6))\n",
    "sns.heatmap(creditos_provincia_estado, annot=True, fmt='g', cmap='viridis', cbar_kws={'label': 'Cantidad de Créditos'})\n",
    "plt.title(\"Mapa de Calor de Créditos por Provincia y Estado\")\n",
    "plt.xlabel(\"Estado del Crédito\")\n",
    "plt.ylabel(\"Provincia\")\n",
    "plt.xticks(rotation=45)\n",
    "plt.tight_layout()\n",
    "plt.show()"
   ]
  },
  {
   "cell_type": "code",
   "execution_count": null,
   "id": "3b6fe131",
   "metadata": {},
   "outputs": [],
   "source": [
    "#mapa de calor de creditos por nacionalidad y estado\n",
    "creditos_nacionalidad_estado = creditos.merge(usuarios[['usuario_id', 'nacionalidad']], on='usuario_id', how='left')\n",
    "creditos_nacionalidad_estado = creditos_nacionalidad_estado.groupby(['nacionalidad', 'estado']).size().unstack().fillna(0)\n",
    "plt.figure(figsize=(12, 6))\n",
    "sns.heatmap(creditos_nacionalidad_estado, annot=True, fmt='g', cmap='viridis', cbar_kws={'label': 'Cantidad de Créditos'})\n",
    "plt.title(\"Mapa de Calor de Créditos por Nacionalidad y Estado\")\n",
    "plt.xlabel(\"Estado del Crédito\")\n",
    "plt.ylabel(\"Nacionalidad\")\n",
    "plt.xticks(rotation=45)\n",
    "plt.tight_layout()\n",
    "plt.show()"
   ]
  },
  {
   "cell_type": "code",
   "execution_count": null,
   "id": "fa43bdc4",
   "metadata": {},
   "outputs": [],
   "source": [
    "#mapa de calor de activos financieros por provincia y tipo\n",
    "activos_provincia_tipo = activos_financieros.merge(usuarios[['usuario_id', 'provincia']], on='usuario_id', how='left')\n",
    "activos_provincia_tipo = activos_provincia_tipo.groupby(['provincia', 'tipo_activo']).size().unstack().fillna(0)\n",
    "plt.figure(figsize=(12, 6))\n",
    "sns.heatmap(activos_provincia_tipo, annot=True, fmt='g', cmap='viridis', cbar_kws={'label': 'Cantidad de Activos'})\n",
    "plt.title(\"Mapa de Calor de Activos Financieros por Provincia y Tipo\")\n",
    "plt.xlabel(\"Tipo de Activo\")\n",
    "plt.ylabel(\"Provincia\")\n",
    "plt.xticks(rotation=45)\n",
    "plt.tight_layout()\n",
    "plt.show()"
   ]
  },
  {
   "cell_type": "code",
   "execution_count": null,
   "id": "81bf2f9d",
   "metadata": {},
   "outputs": [],
   "source": [
    "#mapa de españa con provincias y cantidad de usuarios\n",
    "import geopandas as gpd\n",
    "import matplotlib.pyplot as plt\n",
    "# Cargar el mapa de España\n",
    "mapa_espana = gpd.read_file(gpd.datasets.get_path('naturalearth_lowres'))\n",
    "mapa_espana = mapa_espana[mapa_espana['name'] == 'Spain']\n",
    "# Agrupar usuarios por provincia\n",
    "usuarios_provincia = usuarios.groupby('provincia').size().reset_index(name='cantidad_usuarios')\n",
    "# Unir el mapa con los datos de usuarios\n",
    "mapa_espana = mapa_espana.merge(usuarios_provincia, left_on='name', right_on='provincia', how='left')\n",
    "mapa_espana['cantidad_usuarios'] = mapa_espana['cantidad_usuarios'].fillna(0)\n",
    "# Graficar el mapa\n",
    "fig, ax = plt.subplots(1, 1, figsize=(12, 8))\n",
    "mapa_espana.boundary.plot(ax=ax, linewidth=1)\n",
    "mapa_espana.plot(column='cantidad_usuarios', ax=ax, legend=True,\n",
    "                 legend_kwds={'label': \"Cantidad de Usuarios por Provincia\",\n",
    "                              'orientation': \"horizontal\"},\n",
    "                 cmap='viridis', missing_kwds={\"color\": \"lightgrey\"})\n",
    "plt.title(\"Mapa de España con Cantidad de Usuarios por Provincia\")\n",
    "plt.xlabel(\"Longitud\")\n",
    "plt.ylabel(\"Latitud\")\n",
    "plt.show()"
   ]
  },
  {
   "cell_type": "code",
   "execution_count": null,
   "id": "9b8f820a",
   "metadata": {},
   "outputs": [],
   "source": [
    "#mapa de españa con mas creditos por provincia\n",
    "creditos_provincia = creditos.merge(usuarios[['usuario_id', 'provincia']], on='usuario_id', how='left')\n",
    "creditos_provincia = creditos_provincia.groupby('provincia').size().reset_index(name='cantidad_creditos')\n",
    "# Unir el mapa con los datos de créditos\n",
    "mapa_espana_creditos = mapa_espana.merge(creditos_provincia, left_on='name', right_on='provincia', how='left')\n",
    "mapa_espana_creditos['cantidad_creditos'] = mapa_espana_creditos['cantidad_creditos'].fillna(0)\n",
    "# Graficar el mapa\n",
    "fig, ax = plt.subplots(1, 1, figsize=(12, 8))\n",
    "mapa_espana_creditos.boundary.plot(ax=ax, linewidth=1)\n",
    "mapa_espana_creditos.plot(column='cantidad_creditos', ax=ax, legend=True,\n",
    "                 legend_kwds={'label': \"Cantidad de Créditos por Provincia\",\n",
    "                              'orientation': \"horizontal\"},\n",
    "                 cmap='viridis', missing_kwds={\"color\": \"lightgrey\"})\n",
    "plt.title(\"Mapa de España con Cantidad de Créditos por Provincia\")\n",
    "plt.xlabel(\"Longitud\")\n",
    "plt.ylabel(\"Latitud\")\n",
    "plt.show()"
   ]
  },
  {
   "cell_type": "code",
   "execution_count": null,
   "id": "2b109253",
   "metadata": {},
   "outputs": [],
   "source": [
    "#mapa de españa con mas activos financieros\n",
    "activos_provincia = activos_financieros.merge(usuarios[['usuario_id', 'provincia']], on='usuario_id', how='left')\n",
    "activos_provincia = activos_provincia.groupby('provincia').size().reset_index(name='cantidad_activos')\n",
    "# Unir el mapa con los datos de activos financieros\n",
    "mapa_espana_activos = mapa_espana.merge(activos_provincia, left_on='name', right_on='provincia', how='left')\n",
    "mapa_espana_activos['cantidad_activos'] = mapa_espana_activos['cantidad_activos'].fillna(0)\n",
    "# Graficar el mapa\n",
    "fig, ax = plt.subplots(1, 1, figsize=(12, 8))\n",
    "mapa_espana_activos.boundary.plot(ax=ax, linewidth=1)\n",
    "mapa_espana_activos.plot(column='cantidad_activos', ax=ax, legend=True,\n",
    "                 legend_kwds={'label': \"Cantidad de Activos Financieros por Provincia\",\n",
    "                              'orientation': \"horizontal\"},\n",
    "                 cmap='viridis', missing_kwds={\"color\": \"lightgrey\"})\n",
    "plt.title(\"Mapa de España con Cantidad de Activos Financieros por Provincia\")\n",
    "plt.xlabel(\"Longitud\")\n",
    "plt.ylabel(\"Latitud\")\n",
    "plt.show()\n",
    "                         "
   ]
  }
 ],
 "metadata": {
  "kernelspec": {
   "display_name": ".venv",
   "language": "python",
   "name": "python3"
  },
  "language_info": {
   "codemirror_mode": {
    "name": "ipython",
    "version": 3
   },
   "file_extension": ".py",
   "mimetype": "text/x-python",
   "name": "python",
   "nbconvert_exporter": "python",
   "pygments_lexer": "ipython3",
   "version": "3.13.1"
  }
 },
 "nbformat": 4,
 "nbformat_minor": 5
}
