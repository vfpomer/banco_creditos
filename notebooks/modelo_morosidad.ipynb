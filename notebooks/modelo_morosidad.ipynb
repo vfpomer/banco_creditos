{
 "cells": [
  {
   "cell_type": "code",
   "execution_count": 1,
   "id": "e1f0529f",
   "metadata": {},
   "outputs": [
    {
     "ename": "ModuleNotFoundError",
     "evalue": "No module named 'sklearn'",
     "output_type": "error",
     "traceback": [
      "\u001b[31m---------------------------------------------------------------------------\u001b[39m",
      "\u001b[31mModuleNotFoundError\u001b[39m                       Traceback (most recent call last)",
      "\u001b[36mCell\u001b[39m\u001b[36m \u001b[39m\u001b[32mIn[1]\u001b[39m\u001b[32m, line 7\u001b[39m\n\u001b[32m      4\u001b[39m \u001b[38;5;28;01mimport\u001b[39;00m\u001b[38;5;250m \u001b[39m\u001b[34;01mseaborn\u001b[39;00m\u001b[38;5;250m \u001b[39m\u001b[38;5;28;01mas\u001b[39;00m\u001b[38;5;250m \u001b[39m\u001b[34;01msns\u001b[39;00m\n\u001b[32m      5\u001b[39m \u001b[38;5;28;01mimport\u001b[39;00m\u001b[38;5;250m \u001b[39m\u001b[34;01mmatplotlib\u001b[39;00m\u001b[34;01m.\u001b[39;00m\u001b[34;01mpyplot\u001b[39;00m\u001b[38;5;250m \u001b[39m\u001b[38;5;28;01mas\u001b[39;00m\u001b[38;5;250m \u001b[39m\u001b[34;01mplt\u001b[39;00m\n\u001b[32m----> \u001b[39m\u001b[32m7\u001b[39m \u001b[38;5;28;01mfrom\u001b[39;00m\u001b[38;5;250m \u001b[39m\u001b[34;01msklearn\u001b[39;00m\u001b[34;01m.\u001b[39;00m\u001b[34;01mpreprocessing\u001b[39;00m\u001b[38;5;250m \u001b[39m\u001b[38;5;28;01mimport\u001b[39;00m StandardScaler, LabelEncoder\n\u001b[32m      8\u001b[39m \u001b[38;5;28;01mfrom\u001b[39;00m\u001b[38;5;250m \u001b[39m\u001b[34;01msklearn\u001b[39;00m\u001b[34;01m.\u001b[39;00m\u001b[34;01mcluster\u001b[39;00m\u001b[38;5;250m \u001b[39m\u001b[38;5;28;01mimport\u001b[39;00m KMeans\n\u001b[32m      9\u001b[39m \u001b[38;5;28;01mfrom\u001b[39;00m\u001b[38;5;250m \u001b[39m\u001b[34;01msklearn\u001b[39;00m\u001b[34;01m.\u001b[39;00m\u001b[34;01mmodel_selection\u001b[39;00m\u001b[38;5;250m \u001b[39m\u001b[38;5;28;01mimport\u001b[39;00m train_test_split, cross_val_score, GridSearchCV\n",
      "\u001b[31mModuleNotFoundError\u001b[39m: No module named 'sklearn'"
     ]
    }
   ],
   "source": [
    "# --- SETUP ---\n",
    "import pandas as pd\n",
    "import numpy as np\n",
    "import seaborn as sns\n",
    "import matplotlib.pyplot as plt\n",
    "\n",
    "from sklearn.preprocessing import StandardScaler, LabelEncoder\n",
    "from sklearn.cluster import KMeans\n",
    "from sklearn.model_selection import train_test_split, cross_val_score, GridSearchCV\n",
    "from sklearn.ensemble import RandomForestClassifier\n",
    "from sklearn.metrics import classification_report, confusion_matrix, roc_curve, auc\n",
    "from dotenv import load_dotenv\n",
    "import warnings\n",
    "warnings.filterwarnings('ignore')\n",
    "\n",
    "\n",
    "# Cargar archivo .env\n",
    "# Ruta relativa desde el notebook hasta el .env\n",
    "dotenv_path = '../generadores/.env'  #\n",
    "\n",
    "# Cargar el archivo .env desde la ruta especificada\n",
    "load_dotenv(dotenv_path=dotenv_path)\n",
    "\n",
    "# Leer variables de entorno\n",
    "username = os.getenv(\"USUARIO_DB\")\n",
    "password = os.getenv(\"CLAVE_BD\")\n",
    "\n",
    "# Validar que se cargaron bien\n",
    "print(\"Usuario:\", username)\n",
    "print(\"Contraseña cargada:\", bool(password))  # No imprime la clave, pero verifica si existe\n",
    "\n",
    "if not username or not password:\n",
    "    raise ValueError(\"Las variables de entorno USUARIO_DB o CLAVE_BD no están definidas\")\n",
    "\n",
    "# Cadena de conexión\n",
    "conn_str = (\n",
    "    'DRIVER={ODBC Driver 17 for SQL Server};'\n",
    "    'SERVER=upgradeserver-vf.database.windows.net;'\n",
    "    'DATABASE=Banco;'\n",
    "    f'UID={username};'\n",
    "    f'PWD={password}'\n",
    ")\n",
    "\n",
    "# Conexión\n",
    "conn = pyodbc.connect(conn_str)\n",
    "\n"
   ]
  },
  {
   "cell_type": "code",
   "execution_count": null,
   "id": "819a0b67",
   "metadata": {},
   "outputs": [],
   "source": [
    "# Unión de tablas\n",
    "usuarios_empleo = usuarios.merge(empleo[['usuario_id', 'ingresos', 'tipo_empleo']], on='usuario_id', how='left')\n",
    "usuarios_creditos = creditos.groupby('usuario_id').size().reset_index(name='cantidad_creditos')\n",
    "usuarios_df = usuarios_empleo.merge(usuarios_creditos, on='usuario_id', how='left')\n",
    "usuarios_df = usuarios_df.merge(activos_financieros[['usuario_id', 'valor_activos']], on='usuario_id', how='left')\n"
   ]
  },
  {
   "cell_type": "code",
   "execution_count": null,
   "id": "58bc6b27",
   "metadata": {},
   "outputs": [],
   "source": [
    "# Limpieza\n",
    "usuarios_df['cantidad_creditos'] = usuarios_df['cantidad_creditos'].fillna(0)\n",
    "usuarios_df['valor_activos'] = usuarios_df['valor_activos'].fillna(0)\n",
    "usuarios_df[['provincia', 'estado_civil', 'tipo_empleo', 'nacionalidad']] = usuarios_df[\n",
    "    ['provincia', 'estado_civil', 'tipo_empleo', 'nacionalidad']].fillna(\"Desconocido\")"
   ]
  },
  {
   "cell_type": "code",
   "execution_count": null,
   "id": "2e214e77",
   "metadata": {},
   "outputs": [],
   "source": [
    "# --- ENCODING & SCALING ---\n",
    "cat_vars = ['provincia', 'estado_civil', 'tipo_empleo', 'nacionalidad']\n",
    "for col in cat_vars:\n",
    "    le = LabelEncoder()\n",
    "    usuarios_df[col] = le.fit_transform(usuarios_df[col])\n",
    "\n",
    "features = ['edad', 'ingresos', 'provincia', 'estado_civil', 'tipo_empleo', 'cantidad_creditos', 'valor_activos']\n",
    "X_scaled = StandardScaler().fit_transform(usuarios_df[features])"
   ]
  },
  {
   "cell_type": "code",
   "execution_count": null,
   "id": "e7bc456a",
   "metadata": {},
   "outputs": [],
   "source": [
    "# --- CLUSTERING DE RIESGO ---\n",
    "kmeans = KMeans(n_clusters=4, random_state=42)\n",
    "usuarios_df['cluster_riesgo'] = kmeans.fit_predict(X_scaled)\n",
    "\n",
    "sns.countplot(x='cluster_riesgo', data=usuarios_df, palette='tab10')\n",
    "plt.title(\"Distribución de Usuarios por Clúster de Riesgo\")\n",
    "plt.show()"
   ]
  },
  {
   "cell_type": "code",
   "execution_count": null,
   "id": "8810aaa4",
   "metadata": {},
   "outputs": [],
   "source": [
    "# --- PREDICCION DE MOROSIDAD ---\n",
    "X = usuarios_df[features]\n",
    "y = usuarios_df['moroso']\n",
    "\n",
    "X_train, X_test, y_train, y_test = train_test_split(X, y, test_size=0.3, random_state=42)\n",
    "\n",
    "clf = RandomForestClassifier(n_estimators=100, random_state=42)\n",
    "clf.fit(X_train, y_train)\n",
    "y_pred = clf.predict(X_test)\n",
    "\n",
    "print(classification_report(y_test, y_pred))\n",
    "sns.heatmap(confusion_matrix(y_test, y_pred), annot=True, fmt='d')\n",
    "plt.title(\"Matriz de Confusión\")\n",
    "plt.show()"
   ]
  },
  {
   "cell_type": "code",
   "execution_count": null,
   "id": "307b36b0",
   "metadata": {},
   "outputs": [],
   "source": [
    "# --- VALIDACION CRUZADA ---\n",
    "scores = cross_val_score(clf, X, y, cv=5, scoring='accuracy')\n",
    "print(f\"Accuracy promedio (CV): {scores.mean():.4f}\")"
   ]
  },
  {
   "cell_type": "code",
   "execution_count": null,
   "id": "240aeafa",
   "metadata": {},
   "outputs": [],
   "source": [
    "# --- GRIDSEARCHCV ---\n",
    "param_grid = {\n",
    "    'n_estimators': [100, 200],\n",
    "    'max_depth': [None, 10, 20],\n",
    "    'min_samples_split': [2, 5],\n",
    "    'min_samples_leaf': [1, 2]\n",
    "}\n",
    "grid = GridSearchCV(RandomForestClassifier(random_state=42), param_grid, cv=3, scoring='roc_auc', n_jobs=-1)\n",
    "grid.fit(X_train, y_train)\n",
    "\n",
    "print(\"Mejores parámetros:\", grid.best_params_)\n",
    "best_model = grid.best_estimator_\n",
    "y_pred_best = best_model.predict(X_test)"
   ]
  },
  {
   "cell_type": "code",
   "execution_count": null,
   "id": "f9d031b8",
   "metadata": {},
   "outputs": [],
   "source": [
    "# --- CURVA ROC ---\n",
    "y_scores = best_model.predict_proba(X_test)[:, 1]\n",
    "fpr, tpr, _ = roc_curve(y_test, y_scores)\n",
    "roc_auc = auc(fpr, tpr)\n",
    "\n",
    "plt.figure(figsize=(8, 6))\n",
    "plt.plot(fpr, tpr, label=f'ROC Curve (AUC = {roc_auc:.2f})', color='darkorange')\n",
    "plt.plot([0, 1], [0, 1], 'k--')\n",
    "plt.xlabel('Falso Positivo')\n",
    "plt.ylabel('Verdadero Positivo')\n",
    "plt.title('Curva ROC')\n",
    "plt.legend()\n",
    "plt.grid(True)\n",
    "plt.show()"
   ]
  },
  {
   "cell_type": "code",
   "execution_count": null,
   "id": "91ea6403",
   "metadata": {},
   "outputs": [],
   "source": [
    "# --- IMPORTANCIA DE VARIABLES ---\n",
    "importances = pd.Series(best_model.feature_importances_, index=features).sort_values(ascending=False)\n",
    "importances.plot(kind='barh', title='Importancia de Variables')\n",
    "plt.show()"
   ]
  }
 ],
 "metadata": {
  "kernelspec": {
   "display_name": ".venv",
   "language": "python",
   "name": "python3"
  },
  "language_info": {
   "codemirror_mode": {
    "name": "ipython",
    "version": 3
   },
   "file_extension": ".py",
   "mimetype": "text/x-python",
   "name": "python",
   "nbconvert_exporter": "python",
   "pygments_lexer": "ipython3",
   "version": "3.13.1"
  }
 },
 "nbformat": 4,
 "nbformat_minor": 5
}
